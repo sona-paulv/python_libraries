{
 "cells": [
  {
   "cell_type": "code",
   "execution_count": 1,
   "id": "47512c76-2e6f-4ff5-a92b-1a0752c25e17",
   "metadata": {},
   "outputs": [
    {
     "name": "stdout",
     "output_type": "stream",
     "text": [
      "base1\n",
      "base2\n",
      "derived\n",
      "hello hi\n"
     ]
    }
   ],
   "source": [
    "class base1(object):\n",
    "    def __init__(self):\n",
    "        self.s1='hello'\n",
    "        print('base1')\n",
    "class base2(object):\n",
    "    def __init__(self):\n",
    "        self.s2='hi'\n",
    "        print('base2')\n",
    "class base3(base1,base2):\n",
    "    def __init__(self):\n",
    "        base1.__init__(self)\n",
    "        base2.__init__(self)\n",
    "        print('derived')\n",
    "    def printnum(self):\n",
    "        print(self.s1,self.s2)\n",
    "obj=base3()\n",
    "obj.printnum()\n",
    "\n"
   ]
  },
  {
   "cell_type": "code",
   "execution_count": 5,
   "id": "8ab32cc5-b72c-435e-af91-7dbf7fff3f06",
   "metadata": {},
   "outputs": [
    {
     "name": "stdout",
     "output_type": "stream",
     "text": [
      "kai 23 nyc\n"
     ]
    }
   ],
   "source": [
    "class base(object):\n",
    "    def __init__(self,name):\n",
    "        self.name=name\n",
    "    def getname(self):\n",
    "        return self.name\n",
    "\n",
    "class child(base):\n",
    "    def __init__(self,name,age):\n",
    "        base.__init__(self,name)\n",
    "        self.age=age\n",
    "    def getage(self):\n",
    "        return self.age\n",
    "class grandchild(child):\n",
    "    def __init__(self,name,age,address):\n",
    "        child.__init__(self,name,age)\n",
    "        self.address=address\n",
    "    def getaddress(self):\n",
    "        return self.address\n",
    "i=grandchild('kai',23,'nyc')\n",
    "print(i.getname(),i.getage(),i.getaddress())"
   ]
  },
  {
   "cell_type": "code",
   "execution_count": 14,
   "id": "b1a9e09a-0bf6-401e-997b-15de13a4f608",
   "metadata": {},
   "outputs": [
    {
     "name": "stdout",
     "output_type": "stream",
     "text": [
      "dianosur\n",
      "animal speak\n",
      "mammal give birth\n",
      "bird lays eggs\n",
      "None None None\n"
     ]
    }
   ],
   "source": [
    "class animal:\n",
    "    def speak(self):\n",
    "        print('animal speak')\n",
    "class mammal(animal):\n",
    "    def givebirth(self):\n",
    "        print('mammal give birth')\n",
    "class bird(animal):\n",
    "    def layeggs(self):\n",
    "        print('bird lays eggs')\n",
    "class platypus(mammal,bird):\n",
    "    pass\n",
    "    print('dianosur') \n",
    "obj=platypus()\n",
    "print(obj.speak(),obj.givebirth(),obj.layeggs())"
   ]
  },
  {
   "cell_type": "code",
   "execution_count": 1,
   "id": "cf5d7a14-6d24-4ebd-92ea-141d8460e8f4",
   "metadata": {},
   "outputs": [
    {
     "name": "stdout",
     "output_type": "stream",
     "text": [
      "new delhi is the capital of india\n",
      "hindi is the most widely spoken language of india\n",
      "washington is the capital of usa\n",
      "english is the primary language of usa\n"
     ]
    }
   ],
   "source": [
    "class india():\n",
    "    def capital(self):\n",
    "        print('new delhi is the capital of india')\n",
    "    def language(self):\n",
    "        print('hindi is the most widely spoken language of india')\n",
    "class usa():\n",
    "    def capital(self):\n",
    "        print('washington is the capital of usa')\n",
    "    def language(self):\n",
    "        print('english is the primary language of usa')\n",
    "def fun(obj):\n",
    "    obj.capital()\n",
    "    obj.language()\n",
    "\n",
    "fun(ind)\n",
    "fun(us)\n",
    "     ind=india()\n",
    "us=usa()\n",
    "\n",
    "\n"
   ]
  },
  {
   "cell_type": "code",
   "execution_count": 6,
   "id": "ff541651-6238-4895-b887-18d92162a84a",
   "metadata": {},
   "outputs": [
    {
     "name": "stdout",
     "output_type": "stream",
     "text": [
      "there are many types of birds\n",
      "most of the birds can fly but some cannot\n",
      "there are many types of birds\n",
      "sparrow can fly\n",
      "there are many types of birds\n"
     ]
    }
   ],
   "source": [
    "class bird():\n",
    "    def intro(self):\n",
    "        print('there are many types of birds')\n",
    "    def flight(self):\n",
    "        print('most of the birds can fly but some cannot')\n",
    "class sparrow(bird):\n",
    "    def flight(self):\n",
    "        print('sparrow can fly')\n",
    "class ostrich(bird):\n",
    "    def flight(self):\n",
    "        print('ostrich cannot fly')\n",
    "bir=bird()\n",
    "spa=sparrow()\n",
    "ost=ostrich()\n",
    "bir.intro()\n",
    "bir.flight()\n",
    "spa.intro()\n",
    "spa.flight()\n",
    "ost.intro()\n",
    "\n",
    "    "
   ]
  },
  {
   "cell_type": "code",
   "execution_count": 15,
   "id": "ca2b6b15-a236-44df-92af-e4303e00b3cf",
   "metadata": {},
   "outputs": [
    {
     "name": "stdout",
     "output_type": "stream",
     "text": [
      "1\n",
      "2\n"
     ]
    }
   ],
   "source": [
    "class mynumbers():\n",
    "    def __iter__(self):\n",
    "        self.a=1\n",
    "        return self\n",
    "    def __next__(self):\n",
    "        x=self.a\n",
    "        self.a+=1\n",
    "        return x\n",
    "myclass=mynumbers()\n",
    "myiter=iter(myclass)\n",
    "print(next(myiter))\n",
    "print(next(myiter))\n"
   ]
  },
  {
   "cell_type": "code",
   "execution_count": 18,
   "id": "926b5574-9014-44bb-b24a-fe963d32e048",
   "metadata": {},
   "outputs": [
    {
     "name": "stdout",
     "output_type": "stream",
     "text": [
      "hi\n",
      "1\n",
      "how are you\n",
      "2\n",
      "are you there\n",
      "3\n"
     ]
    }
   ],
   "source": [
    "def greeting():\n",
    "    print('hi')\n",
    "    yield 1\n",
    "    print('how are you')\n",
    "    yield 2\n",
    "    print('are you there')\n",
    "    yield 3\n",
    "messenger=greeting()\n",
    "result=next(messenger)\n",
    "print(result)\n",
    "result=next(messenger)\n",
    "print(result)\n",
    "result=next(messenger)\n",
    "print(result)"
   ]
  },
  {
   "cell_type": "code",
   "execution_count": 30,
   "id": "0ccf7a30-976a-45b3-8464-4983bb491c7f",
   "metadata": {},
   "outputs": [
    {
     "name": "stdout",
     "output_type": "stream",
     "text": [
      "cube:1000\n",
      "square:100\n",
      "done\n"
     ]
    }
   ],
   "source": [
    "import threading\n",
    "def cube(num):\n",
    "    print(\"cube:{}\".format(num*num*num))\n",
    "def square(num):\n",
    "    print(\"square:{}\".format(num*num))\n",
    "if __name__==\"__main__\":\n",
    "    t1=threading.Thread(target=cube,args=(10,))\n",
    "    t2=threading.Thread(target=square,args=(10,))\n",
    "    t1.start()\n",
    "    t2.start()\n",
    "    t1.join()\n",
    "    t2.join()\n",
    "    print('done')\n",
    "   "
   ]
  },
  {
   "cell_type": "code",
   "execution_count": 39,
   "id": "df630366-285c-4d2b-a7a4-97269ee28300",
   "metadata": {},
   "outputs": [
    {
     "name": "stdout",
     "output_type": "stream",
     "text": [
      "iteration0:x=200000\n",
      "iteration1:x=200000\n",
      "iteration2:x=200000\n",
      "iteration3:x=200000\n",
      "iteration4:x=200000\n",
      "iteration5:x=200000\n",
      "iteration6:x=200000\n",
      "iteration7:x=200000\n",
      "iteration8:x=200000\n",
      "iteration9:x=200000\n"
     ]
    }
   ],
   "source": [
    "import threading\n",
    "x=0\n",
    "def increment():\n",
    "    global x\n",
    "    x+=1\n",
    "def thread_task():\n",
    "    for _ in range(100000):\n",
    "        increment()\n",
    "def main_task():\n",
    "    global x\n",
    "    x=0\n",
    "    t1=threading.Thread(target=thread_task)\n",
    "    t2=threading.Thread(target=thread_task)\n",
    "    t1.start()\n",
    "    t2.start()\n",
    "    t1.join()\n",
    "    t2.join()\n",
    "if __name__==\"__main__\":\n",
    "    for i in range(10):\n",
    "        main_task()\n",
    "        print('iteration{0}:x={1}'.format(i,x))\n",
    "    \n",
    "    "
   ]
  },
  {
   "cell_type": "code",
   "execution_count": null,
   "id": "d53bdd84-93c4-4c12-b7c6-f08813ed2c4b",
   "metadata": {},
   "outputs": [],
   "source": []
  }
 ],
 "metadata": {
  "kernelspec": {
   "display_name": "Python 3 (ipykernel)",
   "language": "python",
   "name": "python3"
  },
  "language_info": {
   "codemirror_mode": {
    "name": "ipython",
    "version": 3
   },
   "file_extension": ".py",
   "mimetype": "text/x-python",
   "name": "python",
   "nbconvert_exporter": "python",
   "pygments_lexer": "ipython3",
   "version": "3.13.0"
  }
 },
 "nbformat": 4,
 "nbformat_minor": 5
}
