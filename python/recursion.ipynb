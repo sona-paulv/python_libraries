{
 "cells": [
  {
   "cell_type": "code",
   "execution_count": 6,
   "id": "4c3f9ccd-7507-4396-8aa7-6d887368dd4d",
   "metadata": {},
   "outputs": [
    {
     "name": "stdout",
     "output_type": "stream",
     "text": [
      "the factorial of 4 is 24\n"
     ]
    }
   ],
   "source": [
    "def factorial(x):\n",
    "    if x==1:\n",
    "        return 1\n",
    "    else:\n",
    "        return(x*factorial(x-1))\n",
    "num=4\n",
    "print('the factorial of',num,'is',factorial(num))\n",
    "    "
   ]
  },
  {
   "cell_type": "code",
   "execution_count": 7,
   "id": "75cc1cba-0f64-4c63-9617-5283a45a7b5a",
   "metadata": {},
   "outputs": [],
   "source": [
    "import calc"
   ]
  },
  {
   "cell_type": "code",
   "execution_count": 8,
   "id": "8870ea89-9b18-4729-b1a2-ad394799f740",
   "metadata": {},
   "outputs": [
    {
     "name": "stdout",
     "output_type": "stream",
     "text": [
      "8\n"
     ]
    }
   ],
   "source": [
    "print(calc.sumoftwonum(2,6))"
   ]
  },
  {
   "cell_type": "code",
   "execution_count": 9,
   "id": "a6ce3e19-382f-441c-9078-84050d81d939",
   "metadata": {},
   "outputs": [],
   "source": [
    "from calc import sumoftwonum"
   ]
  },
  {
   "cell_type": "code",
   "execution_count": 10,
   "id": "6cde3a2c-c2a0-40a8-9682-c33cf71fea6f",
   "metadata": {},
   "outputs": [],
   "source": [
    "from calc import *"
   ]
  },
  {
   "cell_type": "code",
   "execution_count": 13,
   "id": "2def2c21-cc5e-4e17-95c1-c62745d14e95",
   "metadata": {},
   "outputs": [
    {
     "name": "stdout",
     "output_type": "stream",
     "text": [
      "bmw\n"
     ]
    }
   ],
   "source": [
    "import numpy\n",
    "cars=['bmw','jaguar','ford']\n",
    "x=cars[0]\n",
    "print(x)"
   ]
  },
  {
   "cell_type": "code",
   "execution_count": null,
   "id": "1c949af5-dfe0-4379-97f7-4921d7c881b0",
   "metadata": {},
   "outputs": [],
   "source": []
  },
  {
   "cell_type": "code",
   "execution_count": null,
   "id": "82ecccc4-c876-4f8e-a7c5-1b0918a64159",
   "metadata": {},
   "outputs": [],
   "source": [
    "\n"
   ]
  },
  {
   "cell_type": "code",
   "execution_count": 34,
   "id": "a747e5ff-624c-41e0-a1e8-df93a9277dfc",
   "metadata": {},
   "outputs": [],
   "source": [
    "import adds"
   ]
  },
  {
   "cell_type": "code",
   "execution_count": 35,
   "id": "024fe92b-a180-4213-844a-1c167a10d9de",
   "metadata": {},
   "outputs": [
    {
     "name": "stdout",
     "output_type": "stream",
     "text": [
      "12\n"
     ]
    }
   ],
   "source": [
    "print(adds.add(10,2))"
   ]
  },
  {
   "cell_type": "code",
   "execution_count": 33,
   "id": "7f59e788-a760-4a9c-b822-ab537698db5e",
   "metadata": {},
   "outputs": [
    {
     "name": "stdout",
     "output_type": "stream",
     "text": [
      "8\n"
     ]
    }
   ],
   "source": [
    "from adds import subtract\n",
    "print(subtract(10,2))"
   ]
  },
  {
   "cell_type": "code",
   "execution_count": 37,
   "id": "46d994b6-130a-469e-bd2d-c3eb0b8e8b5b",
   "metadata": {},
   "outputs": [
    {
     "name": "stdout",
     "output_type": "stream",
     "text": [
      "12\n"
     ]
    }
   ],
   "source": [
    "from adds import add\n",
    "print(add(10,2))"
   ]
  },
  {
   "cell_type": "code",
   "execution_count": 39,
   "id": "b0e5c0d5-b2ac-4736-9472-174954ef9880",
   "metadata": {},
   "outputs": [
    {
     "name": "stdout",
     "output_type": "stream",
     "text": [
      "['__builtins__', '__cached__', '__doc__', '__file__', '__loader__', '__name__', '__package__', '__spec__', 'add', 'subtract']\n"
     ]
    }
   ],
   "source": [
    "from adds import *\n",
    "print(dir(adds))\n"
   ]
  },
  {
   "cell_type": "code",
   "execution_count": 42,
   "id": "ce7e5493-2e78-4a78-8ffa-cd5af3505518",
   "metadata": {},
   "outputs": [],
   "source": [
    "import fun\n"
   ]
  },
  {
   "cell_type": "code",
   "execution_count": 41,
   "id": "3c1ae724-2e3e-4a6d-b1e9-f23998941206",
   "metadata": {},
   "outputs": [
    {
     "name": "stdout",
     "output_type": "stream",
     "text": [
      "4\n"
     ]
    }
   ],
   "source": [
    "print(fun.multiplication(2,2))"
   ]
  },
  {
   "cell_type": "code",
   "execution_count": 48,
   "id": "863731f1-76f6-4669-87eb-6e586b5a8b8c",
   "metadata": {},
   "outputs": [],
   "source": [
    "import fun"
   ]
  },
  {
   "cell_type": "code",
   "execution_count": 54,
   "id": "37a30bab-0817-4938-82ee-6d72b1459cdb",
   "metadata": {},
   "outputs": [
    {
     "name": "stdout",
     "output_type": "stream",
     "text": [
      "1.0\n"
     ]
    }
   ],
   "source": [
    "from fun import divison\n",
    "print(divison(2,2))"
   ]
  },
  {
   "cell_type": "code",
   "execution_count": 53,
   "id": "067c5e38-4f80-453d-9d5c-b7f098869cbc",
   "metadata": {},
   "outputs": [
    {
     "name": "stdout",
     "output_type": "stream",
     "text": [
      "['__builtins__', '__cached__', '__doc__', '__file__', '__loader__', '__name__', '__package__', '__spec__', 'add', 'divison', 'modulus', 'multiplication', 'subtract']\n"
     ]
    }
   ],
   "source": [
    "from fun import *\n",
    "print(dir(fun))"
   ]
  },
  {
   "cell_type": "code",
   "execution_count": 59,
   "id": "4cbd3999-df03-4e4f-8a84-4b765c3405b0",
   "metadata": {},
   "outputs": [
    {
     "name": "stdout",
     "output_type": "stream",
     "text": [
      " it has 4 wheels 1\n"
     ]
    }
   ],
   "source": [
    "class cars:\n",
    "    def toyata(self,a):\n",
    "        print(\" it has 4 wheels\",a)\n",
    "obj = cars()\n",
    "obj.toyata(1)"
   ]
  },
  {
   "cell_type": "code",
   "execution_count": null,
   "id": "9ff9eca6-4365-41a0-9e63-3f79a7ba2dab",
   "metadata": {},
   "outputs": [],
   "source": []
  }
 ],
 "metadata": {
  "kernelspec": {
   "display_name": "Python 3 (ipykernel)",
   "language": "python",
   "name": "python3"
  },
  "language_info": {
   "codemirror_mode": {
    "name": "ipython",
    "version": 3
   },
   "file_extension": ".py",
   "mimetype": "text/x-python",
   "name": "python",
   "nbconvert_exporter": "python",
   "pygments_lexer": "ipython3",
   "version": "3.13.0"
  }
 },
 "nbformat": 4,
 "nbformat_minor": 5
}
