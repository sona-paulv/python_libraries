{
 "cells": [
  {
   "cell_type": "code",
   "execution_count": 3,
   "id": "41a15a0d-ae29-487f-8e63-4ff45273c4e3",
   "metadata": {},
   "outputs": [],
   "source": [
    "import numpy as np\n",
    "import statistics as stats"
   ]
  },
  {
   "cell_type": "code",
   "execution_count": 5,
   "id": "86d3859e-0fd7-4db6-a920-a32a9e005d8a",
   "metadata": {},
   "outputs": [
    {
     "name": "stdout",
     "output_type": "stream",
     "text": [
      "[78 19 83 31 21 79 60  6 91 77]\n",
      "mean: 54.5\n",
      "median: 68.5\n",
      "mode: 78\n"
     ]
    }
   ],
   "source": [
    "li=np.random.randint(0,100,10)\n",
    "print(li)\n",
    "print(\"mean:\",np.mean(li))\n",
    "print(\"median:\",np.median(li))\n",
    "print(\"mode:\",stats.mode(li))"
   ]
  },
  {
   "cell_type": "code",
   "execution_count": 6,
   "id": "bb036b40-0b5f-420e-8022-f7c3140b7396",
   "metadata": {},
   "outputs": [],
   "source": [
    "import numpy as np"
   ]
  },
  {
   "cell_type": "code",
   "execution_count": 12,
   "id": "71254183-9977-4684-99c6-80d0a016db18",
   "metadata": {},
   "outputs": [
    {
     "name": "stdout",
     "output_type": "stream",
     "text": [
      "range:15\n",
      "population variance:21.56666666666667\n",
      "smaple variance:19.410000000000004\n",
      "population standard deviation:4.643992535164831\n",
      "sample standard deviation:4.405678154382138\n",
      "interquartile range:5.5\n"
     ]
    }
   ],
   "source": [
    "data=[12,15,14,10,18,20,22,25,14,17]\n",
    "range_value=max(data)-min(data)\n",
    "print(f\"range:{range_value}\")\n",
    "variance_value=np.var(data,ddof=1)\n",
    "sample_variance_value=np.var(data,ddof=0)\n",
    "print(f\"population variance:{variance_value}\")\n",
    "print(f\"smaple variance:{sample_variance_value}\")\n",
    "stddevvalue=np.std(data,ddof=1)\n",
    "samplestddevvalue=np.std(data,ddof=0)\n",
    "print(f\"population standard deviation:{stddevvalue}\")\n",
    "print(f\"sample standard deviation:{samplestddevvalue}\")\n",
    "q1=np.percentile(data,25)\n",
    "q3=np.percentile(data,75)\n",
    "iqrvalue=q3-q1\n",
    "print(f\"interquartile range:{iqrvalue}\")\n"
   ]
  },
  {
   "cell_type": "code",
   "execution_count": null,
   "id": "a9edcb5d-0dee-420f-a52c-d47dda1dcd37",
   "metadata": {},
   "outputs": [],
   "source": []
  }
 ],
 "metadata": {
  "kernelspec": {
   "display_name": "Python 3 (ipykernel)",
   "language": "python",
   "name": "python3"
  },
  "language_info": {
   "codemirror_mode": {
    "name": "ipython",
    "version": 3
   },
   "file_extension": ".py",
   "mimetype": "text/x-python",
   "name": "python",
   "nbconvert_exporter": "python",
   "pygments_lexer": "ipython3",
   "version": "3.13.0"
  }
 },
 "nbformat": 4,
 "nbformat_minor": 5
}
