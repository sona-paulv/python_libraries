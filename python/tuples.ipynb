{
 "cells": [
  {
   "cell_type": "code",
   "execution_count": 1,
   "id": "7b0cbd4c-e80b-40bc-85e3-f0cf523721b8",
   "metadata": {},
   "outputs": [
    {
     "name": "stdout",
     "output_type": "stream",
     "text": [
      "3\n"
     ]
    }
   ],
   "source": [
    "fruits=(\"apple\",100,\"cherry\")\n",
    "print(len(fruits))"
   ]
  },
  {
   "cell_type": "code",
   "execution_count": 2,
   "id": "e4bea45f-49b4-44c0-8b3a-d26502e14cf4",
   "metadata": {},
   "outputs": [
    {
     "name": "stdout",
     "output_type": "stream",
     "text": [
      "<class 'tuple'>\n"
     ]
    }
   ],
   "source": [
    "fruits=(\"apple\",\"banana\")\n",
    "print(type(fruits))"
   ]
  },
  {
   "cell_type": "code",
   "execution_count": 3,
   "id": "c94ce085-2d74-4524-9f80-8996ef7bb72c",
   "metadata": {},
   "outputs": [
    {
     "name": "stdout",
     "output_type": "stream",
     "text": [
      "banana\n"
     ]
    }
   ],
   "source": [
    "fruits=(\"apple\",\"banana\",\"cherry\")\n",
    "print(fruits[1])"
   ]
  },
  {
   "cell_type": "code",
   "execution_count": 4,
   "id": "0055c77e-7960-4e38-b2b3-59b1720a258b",
   "metadata": {},
   "outputs": [
    {
     "name": "stdout",
     "output_type": "stream",
     "text": [
      "('cherry', 'orange', 'kiwi', 'melon')\n"
     ]
    }
   ],
   "source": [
    "fruits=(\"apple\",'banana','cherry','orange','kiwi','melon')\n",
    "print(fruits[2:])"
   ]
  },
  {
   "cell_type": "code",
   "execution_count": 8,
   "id": "717aabc1-ccc8-45c5-bff0-0880669834e8",
   "metadata": {},
   "outputs": [
    {
     "name": "stdout",
     "output_type": "stream",
     "text": [
      "('apple', 'watermelon', 'cherry')\n"
     ]
    }
   ],
   "source": [
    "x=('apple','banana','cherry')\n",
    "y=list(x)\n",
    "y[1]=\"watermelon\"\n",
    "x=tuple(y)\n",
    "print(x)"
   ]
  },
  {
   "cell_type": "code",
   "execution_count": 10,
   "id": "b43484b4-2373-41c2-a87e-1c6ab86ef1f4",
   "metadata": {},
   "outputs": [
    {
     "name": "stdout",
     "output_type": "stream",
     "text": [
      "apple\n",
      "banana\n",
      "chery\n"
     ]
    }
   ],
   "source": [
    "x=('apple','banana','chery')\n",
    "(green,yellow,red)=x\n",
    "print(green)\n",
    "print(yellow)\n",
    "print(red)"
   ]
  },
  {
   "cell_type": "code",
   "execution_count": 13,
   "id": "4ce02347-c056-4dea-be25-982309a0a908",
   "metadata": {},
   "outputs": [
    {
     "name": "stdout",
     "output_type": "stream",
     "text": [
      "{1, 2, 3, 5}\n"
     ]
    }
   ],
   "source": [
    "x={1,2,3}\n",
    "x.add(5)\n",
    "print(x)"
   ]
  },
  {
   "cell_type": "code",
   "execution_count": 14,
   "id": "9bca8c69-3727-4a7d-a19b-8ee88699c3d6",
   "metadata": {},
   "outputs": [
    {
     "name": "stdout",
     "output_type": "stream",
     "text": [
      "{1, 2, 3, 4, 5, 6, 7, 8}\n"
     ]
    }
   ],
   "source": [
    "x={1,2,3,4}\n",
    "y=[5,6,7,8]\n",
    "x.update(y)\n",
    "print(x)"
   ]
  },
  {
   "cell_type": "code",
   "execution_count": 15,
   "id": "37748869-a36e-47dd-8883-b3e508be87b6",
   "metadata": {},
   "outputs": [
    {
     "name": "stdout",
     "output_type": "stream",
     "text": [
      "{1, 2, 4}\n"
     ]
    }
   ],
   "source": [
    "x={1,2,3,4}\n",
    "x.remove(3)\n",
    "print(x)"
   ]
  },
  {
   "cell_type": "code",
   "execution_count": 16,
   "id": "c5e1dd47-10b1-4756-8800-9a32f81f6b81",
   "metadata": {},
   "outputs": [
    {
     "name": "stdout",
     "output_type": "stream",
     "text": [
      "{2, 3, 4}\n"
     ]
    }
   ],
   "source": [
    "x={1,2,3,4}\n",
    "x.discard(1)\n",
    "print(x)"
   ]
  },
  {
   "cell_type": "code",
   "execution_count": 17,
   "id": "4cab6528-6d6c-4226-b0a4-40bca32a48a6",
   "metadata": {},
   "outputs": [
    {
     "name": "stdout",
     "output_type": "stream",
     "text": [
      "set()\n"
     ]
    }
   ],
   "source": [
    "x={1,2,3,4}\n",
    "x.clear()\n",
    "print(x)"
   ]
  },
  {
   "cell_type": "code",
   "execution_count": 19,
   "id": "8dd6846e-a393-47ba-9480-bbb24778d6db",
   "metadata": {},
   "outputs": [
    {
     "ename": "NameError",
     "evalue": "name 'fruits' is not defined",
     "output_type": "error",
     "traceback": [
      "\u001b[1;31m---------------------------------------------------------------------------\u001b[0m",
      "\u001b[1;31mNameError\u001b[0m                                 Traceback (most recent call last)",
      "Cell \u001b[1;32mIn[19], line 3\u001b[0m\n\u001b[0;32m      1\u001b[0m fruits\u001b[38;5;241m=\u001b[39m{\u001b[38;5;124m\"\u001b[39m\u001b[38;5;124mapple\u001b[39m\u001b[38;5;124m\"\u001b[39m,\u001b[38;5;124m\"\u001b[39m\u001b[38;5;124mbanana\u001b[39m\u001b[38;5;124m\"\u001b[39m}\n\u001b[0;32m      2\u001b[0m \u001b[38;5;28;01mdel\u001b[39;00m fruits\n\u001b[1;32m----> 3\u001b[0m \u001b[38;5;28mprint\u001b[39m(\u001b[43mfruits\u001b[49m)\n",
      "\u001b[1;31mNameError\u001b[0m: name 'fruits' is not defined"
     ]
    }
   ],
   "source": [
    "fruits={\"apple\",\"banana\"}\n",
    "del fruits\n",
    "print(fruits)"
   ]
  },
  {
   "cell_type": "code",
   "execution_count": 24,
   "id": "3ef1504c-b15f-42ef-a985-5472198a9d16",
   "metadata": {},
   "outputs": [
    {
     "name": "stdout",
     "output_type": "stream",
     "text": [
      "{3, 4}\n"
     ]
    }
   ],
   "source": [
    "x={3,4,2}\n",
    "x.pop()\n",
    "print(x)"
   ]
  },
  {
   "cell_type": "code",
   "execution_count": 25,
   "id": "597a2846-84ce-4b7e-93dc-feba086a67bd",
   "metadata": {},
   "outputs": [
    {
     "name": "stdout",
     "output_type": "stream",
     "text": [
      "{1, 'b', 2, 'c', 3, 4, 'a'}\n"
     ]
    }
   ],
   "source": [
    "x={\"a\",\"b\",\"c\"}\n",
    "y={1,2,3,4}\n",
    "z=x.union(y)\n",
    "print(z)"
   ]
  },
  {
   "cell_type": "code",
   "execution_count": 26,
   "id": "d68ace3a-f99b-4b4f-90e1-f92918f9cc71",
   "metadata": {},
   "outputs": [
    {
     "name": "stdout",
     "output_type": "stream",
     "text": [
      "{1, 'b', 2, 'c', 3, 4, 'a'}\n"
     ]
    }
   ],
   "source": [
    "x={'a','b','b','c'}\n",
    "y={1,2,3,4}\n",
    "x.update(y)\n",
    "print(x)"
   ]
  },
  {
   "cell_type": "code",
   "execution_count": 27,
   "id": "3c73510c-049c-442c-8fe4-35c8257b6bf7",
   "metadata": {},
   "outputs": [
    {
     "name": "stdout",
     "output_type": "stream",
     "text": [
      "{2, 3, 4}\n"
     ]
    }
   ],
   "source": [
    "x={1,2,3,4}\n",
    "y={2,3,4,5,6,7,}\n",
    "x.intersection_update(y)\n",
    "print(x)"
   ]
  },
  {
   "cell_type": "code",
   "execution_count": 28,
   "id": "ac0ad1c7-1721-4091-86b5-a249124edae8",
   "metadata": {},
   "outputs": [
    {
     "name": "stdout",
     "output_type": "stream",
     "text": [
      "{3, 4}\n"
     ]
    }
   ],
   "source": [
    "x={1,2,3,4}\n",
    "y={3,4,5,6,7}\n",
    "z=x.intersection(y)\n",
    "print(z)"
   ]
  },
  {
   "cell_type": "code",
   "execution_count": 30,
   "id": "296fa7d3-335e-4903-a2ee-3ffee2ec9a7b",
   "metadata": {},
   "outputs": [
    {
     "name": "stdout",
     "output_type": "stream",
     "text": [
      "{1, 2, 6, 7}\n"
     ]
    }
   ],
   "source": [
    "x={1,2,3,4,5}\n",
    "y={3,4,5,6,7}\n",
    "x.symmetric_difference_update(y)\n",
    "print(x)"
   ]
  },
  {
   "cell_type": "code",
   "execution_count": 32,
   "id": "ce94ba95-3558-4594-8887-a9cc3a516be6",
   "metadata": {},
   "outputs": [
    {
     "name": "stdout",
     "output_type": "stream",
     "text": [
      "{2, 4, 6}\n"
     ]
    }
   ],
   "source": [
    "x={1,2,3,4,4,5}\n",
    "y={3,5,1,6,}\n",
    "z=x.symmetric_difference(y)\n",
    "print(z)"
   ]
  },
  {
   "cell_type": "code",
   "execution_count": 34,
   "id": "0c64b2b9-dca8-4ebd-8483-a2f019be1ee8",
   "metadata": {},
   "outputs": [
    {
     "name": "stdout",
     "output_type": "stream",
     "text": [
      "frozenset({1, 2, 3, 4, 5})\n"
     ]
    }
   ],
   "source": [
    "x=(1,2,3,4,5)\n",
    "y=frozenset(x)\n",
    "print(y)"
   ]
  },
  {
   "cell_type": "code",
   "execution_count": 38,
   "id": "cbc80daf-0452-47fc-a017-3d97cb217064",
   "metadata": {},
   "outputs": [],
   "source": [
    "d = {\"a\":\"angel\",2:\"sona\",3:\"anjali\",4:\"kavya\"}"
   ]
  },
  {
   "cell_type": "code",
   "execution_count": 39,
   "id": "a467fd66-fa45-4092-8706-9880ed2b9cc1",
   "metadata": {},
   "outputs": [
    {
     "data": {
      "text/plain": [
       "dict"
      ]
     },
     "execution_count": 39,
     "metadata": {},
     "output_type": "execute_result"
    }
   ],
   "source": [
    "type(d)"
   ]
  },
  {
   "cell_type": "code",
   "execution_count": 41,
   "id": "c6013b12-5dc3-42cd-a908-1499383111a7",
   "metadata": {},
   "outputs": [
    {
     "data": {
      "text/plain": [
       "dict_values(['angel', 'sona', 'anjali', 'kavya'])"
      ]
     },
     "execution_count": 41,
     "metadata": {},
     "output_type": "execute_result"
    }
   ],
   "source": [
    "d.values()"
   ]
  },
  {
   "cell_type": "code",
   "execution_count": 42,
   "id": "05f44e68-ba0f-4a7f-bd8d-1a97fb3af784",
   "metadata": {},
   "outputs": [
    {
     "data": {
      "text/plain": [
       "dict_keys(['a', 2, 3, 4])"
      ]
     },
     "execution_count": 42,
     "metadata": {},
     "output_type": "execute_result"
    }
   ],
   "source": [
    "d.keys()"
   ]
  },
  {
   "cell_type": "code",
   "execution_count": 43,
   "id": "e1d198fa-31cd-4e0e-83af-cebf572801b5",
   "metadata": {},
   "outputs": [
    {
     "data": {
      "text/plain": [
       "dict_items([('a', 'angel'), (2, 'sona'), (3, 'anjali'), (4, 'kavya')])"
      ]
     },
     "execution_count": 43,
     "metadata": {},
     "output_type": "execute_result"
    }
   ],
   "source": [
    "d.items()"
   ]
  },
  {
   "cell_type": "code",
   "execution_count": 44,
   "id": "a6bc643e-cfc0-4117-99c1-458692031a46",
   "metadata": {},
   "outputs": [
    {
     "data": {
      "text/plain": [
       "'angel'"
      ]
     },
     "execution_count": 44,
     "metadata": {},
     "output_type": "execute_result"
    }
   ],
   "source": [
    "d[\"a\"]"
   ]
  },
  {
   "cell_type": "code",
   "execution_count": 45,
   "id": "d07cb676-7b3c-40b2-a1ff-5a5c7b057717",
   "metadata": {},
   "outputs": [],
   "source": [
    "x=d.get(\"a\")"
   ]
  },
  {
   "cell_type": "code",
   "execution_count": 46,
   "id": "0d4d9d42-17f7-49eb-870d-d7e63d467406",
   "metadata": {},
   "outputs": [
    {
     "data": {
      "text/plain": [
       "'angel'"
      ]
     },
     "execution_count": 46,
     "metadata": {},
     "output_type": "execute_result"
    }
   ],
   "source": [
    "x"
   ]
  },
  {
   "cell_type": "code",
   "execution_count": 47,
   "id": "87e7c176-51ac-453e-a9fb-1d981ebc0b7b",
   "metadata": {},
   "outputs": [],
   "source": [
    "d[1]=\"arjun\""
   ]
  },
  {
   "cell_type": "code",
   "execution_count": 48,
   "id": "e21926a6-2a7d-4c8b-9006-8334ab13eb64",
   "metadata": {},
   "outputs": [
    {
     "data": {
      "text/plain": [
       "{'a': 'angel', 2: 'sona', 3: 'anjali', 4: 'kavya', 1: 'arjun'}"
      ]
     },
     "execution_count": 48,
     "metadata": {},
     "output_type": "execute_result"
    }
   ],
   "source": [
    "d"
   ]
  },
  {
   "cell_type": "code",
   "execution_count": 49,
   "id": "6b31bf12-2dae-4465-a5a8-6e64be292310",
   "metadata": {},
   "outputs": [],
   "source": [
    "d[3]=\"hima\""
   ]
  },
  {
   "cell_type": "code",
   "execution_count": 50,
   "id": "bef15bda-5da7-4af0-85d6-0925296000a3",
   "metadata": {},
   "outputs": [
    {
     "data": {
      "text/plain": [
       "{'a': 'angel', 2: 'sona', 3: 'hima', 4: 'kavya', 1: 'arjun'}"
      ]
     },
     "execution_count": 50,
     "metadata": {},
     "output_type": "execute_result"
    }
   ],
   "source": [
    "d"
   ]
  },
  {
   "cell_type": "code",
   "execution_count": 51,
   "id": "a9f53b18-6d69-4456-8aa1-6430f3472783",
   "metadata": {},
   "outputs": [],
   "source": [
    "d.update({3:\"anjali\"})"
   ]
  },
  {
   "cell_type": "code",
   "execution_count": 52,
   "id": "f00c7141-f789-4be8-ad95-bf976e0b1fa2",
   "metadata": {},
   "outputs": [
    {
     "data": {
      "text/plain": [
       "{'a': 'angel', 2: 'sona', 3: 'anjali', 4: 'kavya', 1: 'arjun'}"
      ]
     },
     "execution_count": 52,
     "metadata": {},
     "output_type": "execute_result"
    }
   ],
   "source": [
    "d"
   ]
  },
  {
   "cell_type": "code",
   "execution_count": 2,
   "id": "9e161945-f7a0-443d-8ae4-566787fc12ab",
   "metadata": {},
   "outputs": [
    {
     "name": "stdout",
     "output_type": "stream",
     "text": [
      "{'brand': 'bnw', 'model': '2nd series', 'year': 2004}\n"
     ]
    }
   ],
   "source": [
    "cars={\n",
    "    \"brand\":\"bnw\",\n",
    "    \"model\":\"2nd series\",\n",
    "    \"year\":2004\n",
    "}\n",
    "print(cars)"
   ]
  },
  {
   "cell_type": "code",
   "execution_count": 3,
   "id": "d9917aef-7c10-41be-a6ad-3df21023372f",
   "metadata": {},
   "outputs": [
    {
     "name": "stdout",
     "output_type": "stream",
     "text": [
      "{'brand': 'bnw', 'model': '2nd series', 'year': 2004}\n"
     ]
    }
   ],
   "source": [
    "x=cars.get(\"model\")\n",
    "print(cars)"
   ]
  },
  {
   "cell_type": "code",
   "execution_count": 4,
   "id": "ea8d1560-3b60-4099-a2b2-a667b95fda4a",
   "metadata": {},
   "outputs": [
    {
     "data": {
      "text/plain": [
       "dict_values(['bnw', '2nd series', 2004])"
      ]
     },
     "execution_count": 4,
     "metadata": {},
     "output_type": "execute_result"
    }
   ],
   "source": [
    "cars.values()"
   ]
  },
  {
   "cell_type": "code",
   "execution_count": 5,
   "id": "84746bed-00e3-4f47-b7d7-327da66de940",
   "metadata": {},
   "outputs": [
    {
     "data": {
      "text/plain": [
       "dict_keys(['brand', 'model', 'year'])"
      ]
     },
     "execution_count": 5,
     "metadata": {},
     "output_type": "execute_result"
    }
   ],
   "source": [
    "cars.keys()"
   ]
  },
  {
   "cell_type": "code",
   "execution_count": 6,
   "id": "2addb09b-65a2-46ff-bae2-589ec401c03e",
   "metadata": {},
   "outputs": [
    {
     "data": {
      "text/plain": [
       "'2nd series'"
      ]
     },
     "execution_count": 6,
     "metadata": {},
     "output_type": "execute_result"
    }
   ],
   "source": [
    "cars[\"model\"]"
   ]
  },
  {
   "cell_type": "code",
   "execution_count": 9,
   "id": "f3ee9a46-e58e-4434-974b-5fd541209c9f",
   "metadata": {},
   "outputs": [
    {
     "name": "stdout",
     "output_type": "stream",
     "text": [
      "{'brand': 'bnw', 'model': '2nd series', 'year': 2020}\n"
     ]
    }
   ],
   "source": [
    "cars[\"year\"]=2020\n",
    "print(cars)"
   ]
  },
  {
   "cell_type": "code",
   "execution_count": 11,
   "id": "f5c1f5d4-6c5f-45bc-b299-8f55756d044b",
   "metadata": {},
   "outputs": [
    {
     "name": "stdout",
     "output_type": "stream",
     "text": [
      "{'brand': 'bnw', 'model': '2nd series', 'year': 2020, 'color': 'red'}\n"
     ]
    }
   ],
   "source": [
    "cars['color']=\"red\"\n",
    "print(cars)"
   ]
  },
  {
   "cell_type": "code",
   "execution_count": 13,
   "id": "212471d6-cf00-4a81-bceb-3f2f40f2999a",
   "metadata": {},
   "outputs": [
    {
     "name": "stdout",
     "output_type": "stream",
     "text": [
      "{'brand': 'bnw', 'model': '2nd series', 'year': 2020, 'color': 'red'}\n"
     ]
    }
   ],
   "source": [
    "cars.items()\n",
    "print(cars)"
   ]
  },
  {
   "cell_type": "code",
   "execution_count": 16,
   "id": "213eed72-c7b7-4abe-adfb-02fcf453a1c4",
   "metadata": {},
   "outputs": [
    {
     "name": "stdout",
     "output_type": "stream",
     "text": [
      "{'brand': 'bnw', 'model': '2nd series', 'year': 2025, 'color': 'red'}\n"
     ]
    }
   ],
   "source": [
    "cars.update({\"year\":2025})\n",
    "print(cars) "
   ]
  },
  {
   "cell_type": "code",
   "execution_count": 18,
   "id": "342bf315-bc11-4445-9a22-599ec6584c7b",
   "metadata": {},
   "outputs": [
    {
     "name": "stdout",
     "output_type": "stream",
     "text": [
      "{'brand': 'bnw', 'model': '2nd series', 'year': 2025, 'color': 'red'}\n"
     ]
    }
   ],
   "source": [
    "new_cars=cars.copy()\n",
    "print(new_cars)"
   ]
  },
  {
   "cell_type": "code",
   "execution_count": 26,
   "id": "bb4bc96a-d385-48fe-a955-4fa06f30147f",
   "metadata": {},
   "outputs": [
    {
     "name": "stdout",
     "output_type": "stream",
     "text": [
      "{'brand': 'bnw', 'color': 'red'}\n"
     ]
    }
   ],
   "source": [
    "del cars[\"years\"]\n",
    "print(cars)"
   ]
  },
  {
   "cell_type": "code",
   "execution_count": 30,
   "id": "46305ecd-abe7-4d5c-9dad-059fa3de0902",
   "metadata": {},
   "outputs": [
    {
     "name": "stdout",
     "output_type": "stream",
     "text": [
      "b is greater than a\n"
     ]
    }
   ],
   "source": [
    "a=33\n",
    "b=200\n",
    "if b>a:\n",
    "    print(\"b is greater than a\")"
   ]
  },
  {
   "cell_type": "code",
   "execution_count": 34,
   "id": "13b7fc88-f7f3-42bb-b3d8-749ad3f074fa",
   "metadata": {},
   "outputs": [
    {
     "name": "stdout",
     "output_type": "stream",
     "text": [
      "a is equal to b\n"
     ]
    }
   ],
   "source": [
    "a=44\n",
    "b=44\n",
    "if b>a:\n",
    "    print(\"b is greater than a\")\n",
    "elif a==b:\n",
    "    print(\"a is equal to b\")"
   ]
  },
  {
   "cell_type": "code",
   "execution_count": 37,
   "id": "867d1b68-9481-4ac0-be5b-f54d3b9c9524",
   "metadata": {},
   "outputs": [
    {
     "name": "stdout",
     "output_type": "stream",
     "text": [
      "b is less than a\n"
     ]
    }
   ],
   "source": [
    "a=200\n",
    "b=33\n",
    "if b>a:\n",
    "    print(\"b is greater than a\")\n",
    "elif a==b:\n",
    "    print('a is equal to be')\n",
    "else:\n",
    "    print('b is less than a')\n",
    "    "
   ]
  },
  {
   "cell_type": "code",
   "execution_count": 38,
   "id": "4ec6f4fd-c2e5-4bf7-9b4f-2dd04ad32130",
   "metadata": {},
   "outputs": [
    {
     "name": "stdout",
     "output_type": "stream",
     "text": [
      "b\n"
     ]
    }
   ],
   "source": [
    "a=2\n",
    "b=330\n",
    "print(\"a\")if a>b else print(\"b\")"
   ]
  },
  {
   "cell_type": "code",
   "execution_count": 39,
   "id": "4dc575ca-6930-437e-8d0a-2f80511c087e",
   "metadata": {},
   "outputs": [
    {
     "name": "stdout",
     "output_type": "stream",
     "text": [
      "b\n"
     ]
    }
   ],
   "source": [
    "a=2\n",
    "b=330\n",
    "print(\"a\")if a>b else print(\"=\")if a==b else print(\"b\")"
   ]
  },
  {
   "cell_type": "code",
   "execution_count": 42,
   "id": "a3d06c23-b3c6-42b8-a4e7-4fe9b73982a4",
   "metadata": {},
   "outputs": [
    {
     "name": "stdout",
     "output_type": "stream",
     "text": [
      "both conditions are true\n",
      "it's correct\n"
     ]
    }
   ],
   "source": [
    "a=100\n",
    "b=50\n",
    "c=200\n",
    "if a>b and c>a:\n",
    "    print(\"both conditions are true\") \n",
    "if a>b or c<a:\n",
    "    print(\"it's correct\")\n"
   ]
  },
  {
   "cell_type": "code",
   "execution_count": 43,
   "id": "841a1e8d-f686-47d0-a6ea-7943b91a0778",
   "metadata": {},
   "outputs": [
    {
     "name": "stdout",
     "output_type": "stream",
     "text": [
      "above ten\n",
      "above than 20\n"
     ]
    }
   ],
   "source": [
    "x=40\n",
    "if x>10:\n",
    "    print(\"above ten\")\n",
    "    if x>20:\n",
    "            print(\"above than 20\")\n",
    "else:\n",
    "    print(\"not above 20\")"
   ]
  },
  {
   "cell_type": "code",
   "execution_count": 45,
   "id": "d0580ea9-0c9d-4f7d-8586-7b65116ffb2f",
   "metadata": {},
   "outputs": [],
   "source": [
    "a=33\n",
    "b=200\n",
    "if a<b:\n",
    "    pass\n",
    "    "
   ]
  },
  {
   "cell_type": "code",
   "execution_count": 46,
   "id": "8ba78916-8a33-40f7-b3fb-9106c5f49401",
   "metadata": {},
   "outputs": [
    {
     "name": "stdout",
     "output_type": "stream",
     "text": [
      "4\n",
      "3\n",
      "2\n",
      "1\n"
     ]
    }
   ],
   "source": [
    "a=[1,2,3,4]\n",
    "while a:\n",
    "    print(a.pop())"
   ]
  },
  {
   "cell_type": "code",
   "execution_count": 50,
   "id": "aa952d18-47cd-49c2-a04b-20c0b19a321c",
   "metadata": {},
   "outputs": [
    {
     "name": "stdout",
     "output_type": "stream",
     "text": [
      "2\n",
      "4\n"
     ]
    }
   ],
   "source": [
    "a=0\n",
    "while a<4:\n",
    "    a+=2\n",
    "    print(a)\n",
    "    continue\n",
    "    "
   ]
  },
  {
   "cell_type": "code",
   "execution_count": 2,
   "id": "28936272-3fdb-48c9-9916-52abd77ef5b8",
   "metadata": {},
   "outputs": [
    {
     "name": "stdout",
     "output_type": "stream",
     "text": [
      "2\n"
     ]
    }
   ],
   "source": [
    "a=0\n",
    "while a<4:\n",
    "    a+=2\n",
    "    print(a)\n",
    "    break"
   ]
  },
  {
   "cell_type": "code",
   "execution_count": 7,
   "id": "af7c809c-9685-48b1-9e75-8c23f9d75fe0",
   "metadata": {},
   "outputs": [
    {
     "name": "stdout",
     "output_type": "stream",
     "text": [
      "14\n",
      "value b: 15\n"
     ]
    }
   ],
   "source": [
    "a=\"loop in python\"\n",
    "b=0\n",
    "print(len(a))\n",
    "while b < len(a):\n",
    "     b+=3\n",
    "     pass\n",
    "print('value b:', b)"
   ]
  },
  {
   "cell_type": "code",
   "execution_count": 10,
   "id": "b2ce5de5-20c2-4040-80cc-b6700d7f3619",
   "metadata": {},
   "outputs": [
    {
     "name": "stdout",
     "output_type": "stream",
     "text": [
      "letter: l\n",
      "letter: o\n",
      "letter: o\n",
      "letter: p\n",
      "letter:  \n",
      "letter: i\n",
      "letter: n\n",
      "letter:  \n",
      "letter: p\n",
      "letter: y\n",
      "letter: t\n",
      "letter: h\n",
      "letter: o\n",
      "letter: n\n"
     ]
    }
   ],
   "source": [
    "a=0\n",
    "b=\"loops in python\"\n",
    "while a<len(b):\n",
    "    if b[a]=='e' or b[a]=='s':\n",
    "        a+=1\n",
    "        continue\n",
    "    print('letter:',b[a])\n",
    "    a+=1\n",
    "        \n"
   ]
  },
  {
   "cell_type": "code",
   "execution_count": 12,
   "id": "135be12a-9568-43ef-85a2-54b1853d09a8",
   "metadata": {},
   "outputs": [
    {
     "name": "stdout",
     "output_type": "stream",
     "text": [
      "2\n"
     ]
    }
   ],
   "source": [
    "i=0\n",
    "while i<4:\n",
    "    i+=2\n",
    "    print(i)\n",
    "    break\n",
    "else:#not excuted as there is a break\n",
    "    print(\"no break\")"
   ]
  },
  {
   "cell_type": "code",
   "execution_count": null,
   "id": "1a2a97b2-6cbd-4f60-9fa7-01b24233010f",
   "metadata": {},
   "outputs": [],
   "source": []
  }
 ],
 "metadata": {
  "kernelspec": {
   "display_name": "Python 3 (ipykernel)",
   "language": "python",
   "name": "python3"
  },
  "language_info": {
   "codemirror_mode": {
    "name": "ipython",
    "version": 3
   },
   "file_extension": ".py",
   "mimetype": "text/x-python",
   "name": "python",
   "nbconvert_exporter": "python",
   "pygments_lexer": "ipython3",
   "version": "3.13.0"
  }
 },
 "nbformat": 4,
 "nbformat_minor": 5
}
