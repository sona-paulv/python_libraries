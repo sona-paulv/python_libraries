{
 "cells": [
  {
   "cell_type": "code",
   "execution_count": 2,
   "id": "1930bc37-d560-4f53-bcf1-07031cca02ba",
   "metadata": {},
   "outputs": [
    {
     "name": "stdout",
     "output_type": "stream",
     "text": [
      "second element=2\n",
      "an error occurred\n"
     ]
    }
   ],
   "source": [
    "a=[1,2,3]\n",
    "try:\n",
    "    print(\"second element=%d\"%(a[1]))\n",
    "    print('fourth element=%d'%(a[3]))\n",
    "except:\n",
    "    print(\"an error occurred\")\n",
    "    \n",
    "    \n",
    "    "
   ]
  },
  {
   "cell_type": "code",
   "execution_count": 7,
   "id": "295c9e1d-b40a-4af8-9508-e41bfc2d8ce7",
   "metadata": {},
   "outputs": [
    {
     "name": "stdout",
     "output_type": "stream",
     "text": [
      "zero divion error occurredand handled\n"
     ]
    }
   ],
   "source": [
    "def fun(a):\n",
    "    if a<4:\n",
    "        b=a/(a-3)\n",
    "    print(\"value of b = \",b)\n",
    "try:\n",
    "    fun(3)\n",
    "    fun(5)\n",
    "except ZeroDivisionError:\n",
    "    print(\"zero divion error occurredand handled\")\n",
    "except NameError:\n",
    "    print(\"name error occurred and handled\")"
   ]
  },
  {
   "cell_type": "code",
   "execution_count": 8,
   "id": "de65b326-ae12-4a8d-971f-d87a1424456d",
   "metadata": {},
   "outputs": [
    {
     "name": "stdout",
     "output_type": "stream",
     "text": [
      "-5.0\n",
      "a/b result in 0\n"
     ]
    }
   ],
   "source": [
    "def ab(a,b):\n",
    "    try:\n",
    "        c=((a+b)/(a-b))\n",
    "    except ZeroDivisionError:\n",
    "        print(\"a/b result in 0\")\n",
    "    else:\n",
    "        print(c)\n",
    "ab(2,3)\n",
    "ab(3,3)"
   ]
  },
  {
   "cell_type": "code",
   "execution_count": 9,
   "id": "e62139d7-8dc6-4099-9d08-3d8ef1fe2c43",
   "metadata": {},
   "outputs": [
    {
     "name": "stdout",
     "output_type": "stream",
     "text": [
      "can't divided by zero\n",
      "this is always executed\n"
     ]
    }
   ],
   "source": [
    "try:\n",
    "    k=5//0\n",
    "    print(k)\n",
    "except ZeroDivisionError:\n",
    "    print(\"can't divided by zero\")\n",
    "finally:\n",
    "    print('this is always executed')"
   ]
  },
  {
   "cell_type": "code",
   "execution_count": 12,
   "id": "a3e2c077-9cf1-41d9-bdea-e6ce5f7f91bc",
   "metadata": {},
   "outputs": [
    {
     "name": "stdout",
     "output_type": "stream",
     "text": [
      "an exception\n"
     ]
    },
    {
     "ename": "NameError",
     "evalue": "hi there",
     "output_type": "error",
     "traceback": [
      "\u001b[1;31m---------------------------------------------------------------------------\u001b[0m",
      "\u001b[1;31mNameError\u001b[0m                                 Traceback (most recent call last)",
      "Cell \u001b[1;32mIn[12], line 2\u001b[0m\n\u001b[0;32m      1\u001b[0m \u001b[38;5;28;01mtry\u001b[39;00m:\n\u001b[1;32m----> 2\u001b[0m     \u001b[38;5;28;01mraise\u001b[39;00m \u001b[38;5;167;01mNameError\u001b[39;00m(\u001b[38;5;124m'\u001b[39m\u001b[38;5;124mhi there\u001b[39m\u001b[38;5;124m'\u001b[39m)\n\u001b[0;32m      3\u001b[0m \u001b[38;5;28;01mexcept\u001b[39;00m \u001b[38;5;167;01mNameError\u001b[39;00m:\n\u001b[0;32m      4\u001b[0m     \u001b[38;5;28mprint\u001b[39m(\u001b[38;5;124m\"\u001b[39m\u001b[38;5;124man exception\u001b[39m\u001b[38;5;124m\"\u001b[39m)\n",
      "\u001b[1;31mNameError\u001b[0m: hi there"
     ]
    }
   ],
   "source": [
    "try:\n",
    "    raise NameError('hi there')\n",
    "except NameError:\n",
    "    print(\"an exception\")\n",
    "    raise\n",
    "    "
   ]
  },
  {
   "cell_type": "code",
   "execution_count": 17,
   "id": "78516822-8e28-42d2-81dc-fde3b4b123dd",
   "metadata": {},
   "outputs": [
    {
     "name": "stdout",
     "output_type": "stream",
     "text": [
      "a new exception occured: 6\n"
     ]
    }
   ],
   "source": [
    "class MyError(Exception):\n",
    "    def __init__(self,value):\n",
    "        self.value=value\n",
    "    def __str__(self):\n",
    "        return(repr(self.value))\n",
    "try:\n",
    "    raise(MyError(3*2))\n",
    "except MyError as error:\n",
    "    print('a new exception occured:',error.value)\n",
    "        "
   ]
  },
  {
   "cell_type": "code",
   "execution_count": 18,
   "id": "7bc8d7d6-0e47-423f-9ed7-01bf4b07e58d",
   "metadata": {},
   "outputs": [
    {
     "name": "stdout",
     "output_type": "stream",
     "text": [
      "yes!we have a match\n"
     ]
    }
   ],
   "source": [
    "import re\n",
    "txt=\"the rain in spain\"\n",
    "x=re.search(\"^the.*spain$\",txt)\n",
    "if x:\n",
    "    print(\"yes!we have a match\")\n",
    "else:\n",
    "    print(\"no match\")"
   ]
  },
  {
   "cell_type": "code",
   "execution_count": 20,
   "id": "d2e6fccf-23c6-42ae-b49e-a9218214a391",
   "metadata": {},
   "outputs": [
    {
     "name": "stdout",
     "output_type": "stream",
     "text": [
      "['ai', 'ai']\n"
     ]
    }
   ],
   "source": [
    "import re\n",
    "txt=\"the rain in spain\"\n",
    "x=re.findall(\"ai\",txt)\n",
    "print(x)"
   ]
  },
  {
   "cell_type": "code",
   "execution_count": 22,
   "id": "c12ffb71-acf6-497e-ae86-44ff85906c31",
   "metadata": {},
   "outputs": [
    {
     "name": "stdout",
     "output_type": "stream",
     "text": [
      "no match\n"
     ]
    }
   ],
   "source": [
    "import re\n",
    "txt=\"the rain in spain\"\n",
    "x=re.findall(\"portugal\",txt)\n",
    "\n",
    "if(x):\n",
    "    print(\"yes there is atleast one match\")\n",
    "else:\n",
    "    print(\"no match\")"
   ]
  },
  {
   "cell_type": "code",
   "execution_count": 36,
   "id": "47faf02e-dc4a-4277-ba41-5ac51168cc1b",
   "metadata": {},
   "outputs": [
    {
     "name": "stdout",
     "output_type": "stream",
     "text": [
      "the 1st white_space character is located in position: 7\n"
     ]
    },
    {
     "name": "stderr",
     "output_type": "stream",
     "text": [
      "<>:3: SyntaxWarning: invalid escape sequence '\\s'\n",
      "<>:3: SyntaxWarning: invalid escape sequence '\\s'\n",
      "C:\\Users\\MICRO\\AppData\\Local\\Temp\\ipykernel_3384\\81570264.py:3: SyntaxWarning: invalid escape sequence '\\s'\n",
      "  x=re.search('\\s',txt)\n"
     ]
    }
   ],
   "source": [
    "import re\n",
    "txt=\"therain in spain\"\n",
    "x=re.search('\\s',txt)\n",
    "print(\"the 1st white_space character is located in position:\",x.start())"
   ]
  },
  {
   "cell_type": "code",
   "execution_count": 26,
   "id": "cb624c9b-3d56-40b4-b7d8-1a13ac73c218",
   "metadata": {},
   "outputs": [
    {
     "name": "stdout",
     "output_type": "stream",
     "text": [
      "None\n"
     ]
    }
   ],
   "source": [
    "import re\n",
    "txt=\"the rain in spain\"\n",
    "x=re.search(\"portugal\",txt)\n",
    "print(x)"
   ]
  },
  {
   "cell_type": "code",
   "execution_count": 34,
   "id": "70661b1c-4f91-4f7c-ab96-49c3688f78be",
   "metadata": {},
   "outputs": [
    {
     "name": "stdout",
     "output_type": "stream",
     "text": [
      "['the', 'rain', 'in spain']\n"
     ]
    },
    {
     "name": "stderr",
     "output_type": "stream",
     "text": [
      "<>:3: SyntaxWarning: invalid escape sequence '\\s'\n",
      "<>:3: SyntaxWarning: invalid escape sequence '\\s'\n",
      "C:\\Users\\MICRO\\AppData\\Local\\Temp\\ipykernel_3384\\2135824432.py:3: SyntaxWarning: invalid escape sequence '\\s'\n",
      "  x=re.split(\"\\s\",txt,2)\n",
      "C:\\Users\\MICRO\\AppData\\Local\\Temp\\ipykernel_3384\\2135824432.py:3: DeprecationWarning: 'maxsplit' is passed as positional argument\n",
      "  x=re.split(\"\\s\",txt,2)\n"
     ]
    }
   ],
   "source": [
    "import re\n",
    "txt=\"the rain in spain\"\n",
    "x=re.split(\"\\s\",txt,2)\n",
    "print(x)"
   ]
  },
  {
   "cell_type": "code",
   "execution_count": 39,
   "id": "c361c32c-34e6-4c1d-92fb-d85d42e40d0f",
   "metadata": {},
   "outputs": [
    {
     "name": "stdout",
     "output_type": "stream",
     "text": [
      "the9rain in spain\n"
     ]
    },
    {
     "name": "stderr",
     "output_type": "stream",
     "text": [
      "<>:3: SyntaxWarning: invalid escape sequence '\\s'\n",
      "<>:3: SyntaxWarning: invalid escape sequence '\\s'\n",
      "C:\\Users\\MICRO\\AppData\\Local\\Temp\\ipykernel_3384\\514812792.py:3: SyntaxWarning: invalid escape sequence '\\s'\n",
      "  x=re.sub(\"\\s\",\"9\",txt,1)\n",
      "C:\\Users\\MICRO\\AppData\\Local\\Temp\\ipykernel_3384\\514812792.py:3: DeprecationWarning: 'count' is passed as positional argument\n",
      "  x=re.sub(\"\\s\",\"9\",txt,1)\n"
     ]
    }
   ],
   "source": [
    "import re\n",
    "txt=\"the rain in spain\"\n",
    "x=re.sub(\"\\s\",\"9\",txt,1)\n",
    "print(x)"
   ]
  },
  {
   "cell_type": "code",
   "execution_count": 40,
   "id": "4b492d9f-b792-46f6-9881-e1d8ff70b8ec",
   "metadata": {},
   "outputs": [
    {
     "name": "stdout",
     "output_type": "stream",
     "text": [
      "(12, 17)\n"
     ]
    }
   ],
   "source": [
    "import re \n",
    "txt=\"the rain in spain\"\n",
    "x=re.search(r\"\\bs\\w+\",txt)\n",
    "print(x.span())"
   ]
  },
  {
   "cell_type": "code",
   "execution_count": 7,
   "id": "3d6bc7df-be4c-4987-b125-83d7039c61f1",
   "metadata": {},
   "outputs": [
    {
     "name": "stdout",
     "output_type": "stream",
     "text": [
      "Spain\n"
     ]
    }
   ],
   "source": [
    "import re \n",
    "txt=\"the rain in spain Spain\"\n",
    "x=re.search(r\"\\bS\\w+\",txt)\n",
    "print(x.group())"
   ]
  },
  {
   "cell_type": "code",
   "execution_count": 9,
   "id": "997acd48-9e13-4cb4-952a-11f1bf9c19ba",
   "metadata": {},
   "outputs": [
    {
     "name": "stdout",
     "output_type": "stream",
     "text": [
      "the rain in spain\n"
     ]
    }
   ],
   "source": [
    "import re \n",
    "txt=\"the rain in spain\"\n",
    "x=re.search(r\"\\bs\\w+\",txt)\n",
    "print(x.string)"
   ]
  },
  {
   "cell_type": "code",
   "execution_count": null,
   "id": "325dfdd4-5648-401e-a3ee-965e3a5ec257",
   "metadata": {},
   "outputs": [],
   "source": []
  }
 ],
 "metadata": {
  "kernelspec": {
   "display_name": "Python 3 (ipykernel)",
   "language": "python",
   "name": "python3"
  },
  "language_info": {
   "codemirror_mode": {
    "name": "ipython",
    "version": 3
   },
   "file_extension": ".py",
   "mimetype": "text/x-python",
   "name": "python",
   "nbconvert_exporter": "python",
   "pygments_lexer": "ipython3",
   "version": "3.13.0"
  }
 },
 "nbformat": 4,
 "nbformat_minor": 5
}
