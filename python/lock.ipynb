{
 "cells": [
  {
   "cell_type": "code",
   "execution_count": 36,
   "id": "7424597a-a249-4481-9815-cfb6ca4e15e7",
   "metadata": {},
   "outputs": [
    {
     "name": "stdout",
     "output_type": "stream",
     "text": [
      "iteration0:x=200000\n",
      "iteration1:x=200000\n",
      "iteration2:x=200000\n",
      "iteration3:x=200000\n",
      "iteration4:x=200000\n",
      "iteration5:x=200000\n",
      "iteration6:x=200000\n",
      "iteration7:x=200000\n",
      "iteration8:x=200000\n",
      "iteration9:x=200000\n"
     ]
    }
   ],
   "source": [
    "import threading\n",
    "x=0\n",
    "def increment():\n",
    "    global x\n",
    "    x+=1\n",
    "def thread_task(lock):\n",
    "    for _ in range(100000):\n",
    "        lock.acquire()\n",
    "        increment()\n",
    "        lock.release()\n",
    "def main_task():\n",
    "    global x\n",
    "    x=0\n",
    "    lock=threading.Lock()\n",
    "    t1=threading.Thread(target=thread_task,args=(lock,))\n",
    "    t2=threading.Thread(target=thread_task,args=(lock,))\n",
    "    t1.start()\n",
    "    t2.start()\n",
    "    t1.join()\n",
    "    t2.join()\n",
    "if __name__==\"__main__\":\n",
    "    for i in range(10):\n",
    "        main_task()\n",
    "        print(\"iteration{0}:x={1}\".format(i,x))\n",
    "        \n",
    "\n"
   ]
  },
  {
   "cell_type": "code",
   "execution_count": 14,
   "id": "dfd37b0e-9263-4078-8576-495489b87a56",
   "metadata": {},
   "outputs": [
    {
     "name": "stdout",
     "output_type": "stream",
     "text": [
      "newdelhi.\n",
      "\n",
      "capital of india.and india is a diverse country.\n",
      "\n",
      "inadia mainly divided in two parts.\n",
      "\n",
      "that is south india and north india.\n",
      "\n"
     ]
    }
   ],
   "source": [
    "file=open('lala.txt','r')\n",
    "for line in file:\n",
    "    file\n",
    "    print(line)"
   ]
  },
  {
   "cell_type": "code",
   "execution_count": 18,
   "id": "6bd18067-893d-4335-b85c-1019f15da8dc",
   "metadata": {},
   "outputs": [
    {
     "name": "stdout",
     "output_type": "stream",
     "text": [
      "newdelhi.\n",
      "capital of india.and india is a diverse country.\n",
      "inadia mainly divided in two parts.\n",
      "that is south india and north india.\n",
      "in north u can see north indians south indians and lot others\n",
      "in south u can see south indians north indians and lot others\n"
     ]
    }
   ],
   "source": [
    "file=open(\"lala.txt\",\"r\")\n",
    "print(file.read())"
   ]
  },
  {
   "cell_type": "code",
   "execution_count": 31,
   "id": "9539e651-7304-4cd9-b677-05600d74a4c2",
   "metadata": {},
   "outputs": [
    {
     "name": "stdout",
     "output_type": "stream",
     "text": [
      "this\n"
     ]
    }
   ],
   "source": [
    "file=open(\"lala.txt\",\"r\")\n",
    "print(file.read(4))"
   ]
  },
  {
   "cell_type": "code",
   "execution_count": 33,
   "id": "c5355412-8c7f-4710-a4ef-6062ba60f1a5",
   "metadata": {},
   "outputs": [
    {
     "name": "stdout",
     "output_type": "stream",
     "text": [
      "this is kenya \n",
      "this is paris \n",
      "this is london\n",
      "today the dayday day\n",
      "\n"
     ]
    },
    {
     "data": {
      "text/plain": [
       "<function TextIOWrapper.close()>"
      ]
     },
     "execution_count": 33,
     "metadata": {},
     "output_type": "execute_result"
    }
   ],
   "source": [
    "file=open(\"lala.txt\",\"w\")\n",
    "l=[\"this is kenya \\n\",\"this is paris \\n\",\"this is london\"]\n",
    "file.writelines(l)\n",
    "file.close()\n",
    "file=open(\"lala.txt\",\"a\")\n",
    "file.write(\"\\n\")\n",
    "file.write(\"today the day\")\n",
    "file.write(\"day day\")\n",
    "file=open(\"lala.txt\",\"r\")\n",
    "print(file.read())\n",
    "print()\n",
    "file.close"
   ]
  },
  {
   "cell_type": "code",
   "execution_count": null,
   "id": "c68dee7b-07be-4025-be2a-2066ca5d89da",
   "metadata": {},
   "outputs": [],
   "source": []
  }
 ],
 "metadata": {
  "kernelspec": {
   "display_name": "Python 3 (ipykernel)",
   "language": "python",
   "name": "python3"
  },
  "language_info": {
   "codemirror_mode": {
    "name": "ipython",
    "version": 3
   },
   "file_extension": ".py",
   "mimetype": "text/x-python",
   "name": "python",
   "nbconvert_exporter": "python",
   "pygments_lexer": "ipython3",
   "version": "3.13.0"
  }
 },
 "nbformat": 4,
 "nbformat_minor": 5
}
