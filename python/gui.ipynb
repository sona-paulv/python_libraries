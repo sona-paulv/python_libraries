{
 "cells": [
  {
   "cell_type": "code",
   "execution_count": 10,
   "id": "7333e81a-a36e-4b15-b931-54278dd80cad",
   "metadata": {},
   "outputs": [],
   "source": [
    "from tkinter import*\n",
    "root=Tk()\n",
    "a=Label(root,text=\"hello world\")\n",
    "a.pack()\n",
    "root.mainloop()"
   ]
  },
  {
   "cell_type": "code",
   "execution_count": null,
   "id": "74fcb171-452f-496a-b51b-8fb6fbd197d3",
   "metadata": {},
   "outputs": [],
   "source": [
    "from tkinter import*\n",
    "root=Tk()\n",
    "a=Label(root,text=\"desktop\")\n",
    "root.geometry('100x200')\n",
    "btn=Button(root,text='click me',bd='2')\n",
    "a.pack()\n",
    "btn.pack(side=\"left\")\n",
    "root.mainloop()\n"
   ]
  },
  {
   "cell_type": "code",
   "execution_count": 25,
   "id": "4ad2760d-dc95-4360-a19d-c067c1ff1493",
   "metadata": {},
   "outputs": [],
   "source": [
    "from tkinter.ttk import*\n",
    "root=Tk()\n",
    "a=Label(root,text=\"desktop\")\n",
    "root.geometry('100x200')\n",
    "btn=Button(root,text='clickme')\n",
    "a.pack()\n",
    "btn.pack(side='left')\n",
    "root.mainloop()\n"
   ]
  },
  {
   "cell_type": "code",
   "execution_count": 39,
   "id": "fbc5c049-b8f4-4644-8d0b-2824b0aaaab3",
   "metadata": {},
   "outputs": [],
   "source": [
    "from tkinter import *\n",
    "from tkinter.ttk import *\n",
    "root=Tk()\n",
    "a=Label(root,text=\"desktop\")\n",
    "a.pack()\n",
    "root.geometry('100x100')\n",
    "style=Style()\n",
    "style.configure('W.TButton',font=('calibari',10,'bold','underline'),foreground='red')\n",
    "btn1=Button(root,text='click',style='W.TButton')\n",
    "btn1.pack(side='left')\n",
    "# btn1.grid(row=0,column=3,padx=100)\n",
    "btn2=Button(root,text='close',style='W.TButton')\n",
    "btn2.pack(side='right')\n",
    "# btn2.grid(row=1,column=3,pady=10,padx=100)\n",
    "root.mainloop()"
   ]
  },
  {
   "cell_type": "code",
   "execution_count": 42,
   "id": "5b8470f1-1c2f-4982-b923-3980f6bb6b15",
   "metadata": {},
   "outputs": [],
   "source": [
    "from tkinter.ttk import *\n",
    "root=Tk()\n",
    "root.geometry('250x250')\n",
    "x=LabelFrame(root,text='this is label frame')\n",
    "x.pack(expand='yes',fill='both')\n",
    "label1=Label(x,text='1.this is label')\n",
    "label1.place(x=0,y=5)\n",
    "label2=Label(x,text='2.this is another label')\n",
    "label2.place(x=0,y=35)\n",
    "label3=Label(x,text='3.we can add multiple widgets in it.')\n",
    "label3.place(x=0,y=65)\n",
    "root.mainloop()"
   ]
  },
  {
   "cell_type": "code",
   "execution_count": null,
   "id": "fd69ad3c-e601-4c24-8981-fd556d849942",
   "metadata": {},
   "outputs": [],
   "source": []
  }
 ],
 "metadata": {
  "kernelspec": {
   "display_name": "Python 3 (ipykernel)",
   "language": "python",
   "name": "python3"
  },
  "language_info": {
   "codemirror_mode": {
    "name": "ipython",
    "version": 3
   },
   "file_extension": ".py",
   "mimetype": "text/x-python",
   "name": "python",
   "nbconvert_exporter": "python",
   "pygments_lexer": "ipython3",
   "version": "3.13.0"
  }
 },
 "nbformat": 4,
 "nbformat_minor": 5
}
