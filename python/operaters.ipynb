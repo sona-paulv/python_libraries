{
 "cells": [
  {
   "cell_type": "code",
   "execution_count": 2,
   "id": "9da42b8c-fb02-4c17-972f-2536abd61e52",
   "metadata": {},
   "outputs": [
    {
     "name": "stdout",
     "output_type": "stream",
     "text": [
      "11\n"
     ]
    }
   ],
   "source": [
    "x=5\n",
    "y=6\n",
    "print(x+y)"
   ]
  },
  {
   "cell_type": "code",
   "execution_count": 3,
   "id": "6302f6d6-5755-42b7-af3d-152454794145",
   "metadata": {},
   "outputs": [
    {
     "data": {
      "text/plain": [
       "11"
      ]
     },
     "execution_count": 3,
     "metadata": {},
     "output_type": "execute_result"
    }
   ],
   "source": [
    "import operator\n",
    "operator.add(5,6)"
   ]
  },
  {
   "cell_type": "code",
   "execution_count": 4,
   "id": "4dd582b1-4e6b-43bd-b838-78addf3370f7",
   "metadata": {},
   "outputs": [
    {
     "data": {
      "text/plain": [
       "['__abs__',\n",
       " '__add__',\n",
       " '__all__',\n",
       " '__and__',\n",
       " '__builtins__',\n",
       " '__cached__',\n",
       " '__call__',\n",
       " '__concat__',\n",
       " '__contains__',\n",
       " '__delitem__',\n",
       " '__doc__',\n",
       " '__eq__',\n",
       " '__file__',\n",
       " '__floordiv__',\n",
       " '__ge__',\n",
       " '__getitem__',\n",
       " '__gt__',\n",
       " '__iadd__',\n",
       " '__iand__',\n",
       " '__iconcat__',\n",
       " '__ifloordiv__',\n",
       " '__ilshift__',\n",
       " '__imatmul__',\n",
       " '__imod__',\n",
       " '__imul__',\n",
       " '__index__',\n",
       " '__inv__',\n",
       " '__invert__',\n",
       " '__ior__',\n",
       " '__ipow__',\n",
       " '__irshift__',\n",
       " '__isub__',\n",
       " '__itruediv__',\n",
       " '__ixor__',\n",
       " '__le__',\n",
       " '__loader__',\n",
       " '__lshift__',\n",
       " '__lt__',\n",
       " '__matmul__',\n",
       " '__mod__',\n",
       " '__mul__',\n",
       " '__name__',\n",
       " '__ne__',\n",
       " '__neg__',\n",
       " '__not__',\n",
       " '__or__',\n",
       " '__package__',\n",
       " '__pos__',\n",
       " '__pow__',\n",
       " '__rshift__',\n",
       " '__setitem__',\n",
       " '__spec__',\n",
       " '__sub__',\n",
       " '__truediv__',\n",
       " '__xor__',\n",
       " '_abs',\n",
       " 'abs',\n",
       " 'add',\n",
       " 'and_',\n",
       " 'attrgetter',\n",
       " 'call',\n",
       " 'concat',\n",
       " 'contains',\n",
       " 'countOf',\n",
       " 'delitem',\n",
       " 'eq',\n",
       " 'floordiv',\n",
       " 'ge',\n",
       " 'getitem',\n",
       " 'gt',\n",
       " 'iadd',\n",
       " 'iand',\n",
       " 'iconcat',\n",
       " 'ifloordiv',\n",
       " 'ilshift',\n",
       " 'imatmul',\n",
       " 'imod',\n",
       " 'imul',\n",
       " 'index',\n",
       " 'indexOf',\n",
       " 'inv',\n",
       " 'invert',\n",
       " 'ior',\n",
       " 'ipow',\n",
       " 'irshift',\n",
       " 'is_',\n",
       " 'is_not',\n",
       " 'isub',\n",
       " 'itemgetter',\n",
       " 'itruediv',\n",
       " 'ixor',\n",
       " 'le',\n",
       " 'length_hint',\n",
       " 'lshift',\n",
       " 'lt',\n",
       " 'matmul',\n",
       " 'methodcaller',\n",
       " 'mod',\n",
       " 'mul',\n",
       " 'ne',\n",
       " 'neg',\n",
       " 'not_',\n",
       " 'or_',\n",
       " 'pos',\n",
       " 'pow',\n",
       " 'rshift',\n",
       " 'setitem',\n",
       " 'sub',\n",
       " 'truediv',\n",
       " 'truth',\n",
       " 'xor']"
      ]
     },
     "execution_count": 4,
     "metadata": {},
     "output_type": "execute_result"
    }
   ],
   "source": [
    "dir(operator)\n"
   ]
  },
  {
   "cell_type": "code",
   "execution_count": 6,
   "id": "bf11fce1-02a0-493f-84e5-505e6a037c64",
   "metadata": {},
   "outputs": [
    {
     "data": {
      "text/plain": [
       "5"
      ]
     },
     "execution_count": 6,
     "metadata": {},
     "output_type": "execute_result"
    }
   ],
   "source": [
    "import operator\n",
    "operator.sub(10,5)\n"
   ]
  },
  {
   "cell_type": "code",
   "execution_count": 7,
   "id": "67d810ac-2980-4d82-ac6b-cdd5d214ad89",
   "metadata": {},
   "outputs": [
    {
     "data": {
      "text/plain": [
       "30"
      ]
     },
     "execution_count": 7,
     "metadata": {},
     "output_type": "execute_result"
    }
   ],
   "source": [
    "operator.mul(5,6)"
   ]
  },
  {
   "cell_type": "code",
   "execution_count": 8,
   "id": "c3da70cd-913c-4a12-8598-e4bfedde5ab7",
   "metadata": {},
   "outputs": [
    {
     "data": {
      "text/plain": [
       "8"
      ]
     },
     "execution_count": 8,
     "metadata": {},
     "output_type": "execute_result"
    }
   ],
   "source": [
    "operator.pow(2,3)"
   ]
  },
  {
   "cell_type": "code",
   "execution_count": 9,
   "id": "a38f68a7-9493-425d-ae77-9ea4ee9a17fe",
   "metadata": {},
   "outputs": [
    {
     "data": {
      "text/plain": [
       "2.0"
      ]
     },
     "execution_count": 9,
     "metadata": {},
     "output_type": "execute_result"
    }
   ],
   "source": [
    "operator.truediv(6,3)"
   ]
  },
  {
   "cell_type": "code",
   "execution_count": 10,
   "id": "7a8ca02a-8c94-4695-b1ab-25273916fa88",
   "metadata": {},
   "outputs": [
    {
     "data": {
      "text/plain": [
       "1"
      ]
     },
     "execution_count": 10,
     "metadata": {},
     "output_type": "execute_result"
    }
   ],
   "source": [
    "operator.floordiv(6,5)"
   ]
  },
  {
   "cell_type": "code",
   "execution_count": 11,
   "id": "63b3d301-86fc-44b7-822f-94093c492832",
   "metadata": {},
   "outputs": [
    {
     "data": {
      "text/plain": [
       "2"
      ]
     },
     "execution_count": 11,
     "metadata": {},
     "output_type": "execute_result"
    }
   ],
   "source": [
    "operator.mod(11,3)"
   ]
  },
  {
   "cell_type": "code",
   "execution_count": 12,
   "id": "ac69c673-fd85-46b5-9ef4-31f093e2efc9",
   "metadata": {},
   "outputs": [
    {
     "data": {
      "text/plain": [
       "10"
      ]
     },
     "execution_count": 12,
     "metadata": {},
     "output_type": "execute_result"
    }
   ],
   "source": [
    "import operator\n",
    "operator.iadd(5,5)"
   ]
  },
  {
   "cell_type": "code",
   "execution_count": 18,
   "id": "970404e5-fbeb-459e-bf2b-25ae6c1c9aa4",
   "metadata": {},
   "outputs": [
    {
     "data": {
      "text/plain": [
       "3"
      ]
     },
     "execution_count": 18,
     "metadata": {},
     "output_type": "execute_result"
    }
   ],
   "source": [
    "import operator\n",
    "operator.isub(5,2)"
   ]
  },
  {
   "cell_type": "code",
   "execution_count": 19,
   "id": "3ebed510-3f53-4098-a7ba-3dfca6ad46c2",
   "metadata": {},
   "outputs": [
    {
     "data": {
      "text/plain": [
       "6"
      ]
     },
     "execution_count": 19,
     "metadata": {},
     "output_type": "execute_result"
    }
   ],
   "source": [
    "operator.imul(2,3)"
   ]
  },
  {
   "cell_type": "code",
   "execution_count": 13,
   "id": "b00b93c8-5a11-4d48-8b4a-e5bcdf7559c5",
   "metadata": {},
   "outputs": [
    {
     "data": {
      "text/plain": [
       "2.0"
      ]
     },
     "execution_count": 13,
     "metadata": {},
     "output_type": "execute_result"
    }
   ],
   "source": [
    "import operator\n",
    "operator.itruediv(6,3)"
   ]
  },
  {
   "cell_type": "code",
   "execution_count": 14,
   "id": "5f274a9e-c2ab-4f6f-9781-be1bb01495e3",
   "metadata": {},
   "outputs": [
    {
     "data": {
      "text/plain": [
       "3"
      ]
     },
     "execution_count": 14,
     "metadata": {},
     "output_type": "execute_result"
    }
   ],
   "source": [
    "import operator\n",
    "operator.ifloordiv(11,3)"
   ]
  },
  {
   "cell_type": "code",
   "execution_count": 20,
   "id": "09f7cb9d-7da0-4d85-b3da-354238a70d17",
   "metadata": {},
   "outputs": [
    {
     "data": {
      "text/plain": [
       "2"
      ]
     },
     "execution_count": 20,
     "metadata": {},
     "output_type": "execute_result"
    }
   ],
   "source": [
    "\n",
    "operator.imod(11,3)"
   ]
  },
  {
   "cell_type": "code",
   "execution_count": 17,
   "id": "28260a7c-b2ef-44e0-8957-158dda5e8937",
   "metadata": {},
   "outputs": [
    {
     "data": {
      "text/plain": [
       "3"
      ]
     },
     "execution_count": 17,
     "metadata": {},
     "output_type": "execute_result"
    }
   ],
   "source": [
    "\n",
    "operator.iand(11,3)"
   ]
  },
  {
   "cell_type": "code",
   "execution_count": 21,
   "id": "32d9eadb-65af-4db2-b2ae-0d3142d93ffc",
   "metadata": {},
   "outputs": [
    {
     "data": {
      "text/plain": [
       "7"
      ]
     },
     "execution_count": 21,
     "metadata": {},
     "output_type": "execute_result"
    }
   ],
   "source": [
    "operator.ior(3,4)"
   ]
  },
  {
   "cell_type": "code",
   "execution_count": 22,
   "id": "7d09168d-b98b-477a-89b0-728634da398c",
   "metadata": {},
   "outputs": [
    {
     "data": {
      "text/plain": [
       "7"
      ]
     },
     "execution_count": 22,
     "metadata": {},
     "output_type": "execute_result"
    }
   ],
   "source": [
    "operator.ixor(5,2)"
   ]
  },
  {
   "cell_type": "code",
   "execution_count": 23,
   "id": "acd5e683-9c61-49ea-bb09-cd9bb8465d6f",
   "metadata": {},
   "outputs": [
    {
     "data": {
      "text/plain": [
       "1"
      ]
     },
     "execution_count": 23,
     "metadata": {},
     "output_type": "execute_result"
    }
   ],
   "source": [
    "operator.irshift(5,2)"
   ]
  },
  {
   "cell_type": "code",
   "execution_count": 24,
   "id": "6a7ed59f-55e9-42f5-9409-491782d6c0a4",
   "metadata": {},
   "outputs": [
    {
     "data": {
      "text/plain": [
       "20"
      ]
     },
     "execution_count": 24,
     "metadata": {},
     "output_type": "execute_result"
    }
   ],
   "source": [
    "operator.ilshift(5,2)"
   ]
  },
  {
   "cell_type": "code",
   "execution_count": 27,
   "id": "d91c7c52-84b9-4a17-a392-84ff965d9585",
   "metadata": {},
   "outputs": [
    {
     "data": {
      "text/plain": [
       "True"
      ]
     },
     "execution_count": 27,
     "metadata": {},
     "output_type": "execute_result"
    }
   ],
   "source": [
    " x=5;y=6\n",
    "x>1 and y<10"
   ]
  },
  {
   "cell_type": "code",
   "execution_count": 28,
   "id": "26c82323-abae-4a04-84fd-a9a4e5d3af27",
   "metadata": {},
   "outputs": [
    {
     "data": {
      "text/plain": [
       "True"
      ]
     },
     "execution_count": 28,
     "metadata": {},
     "output_type": "execute_result"
    }
   ],
   "source": [
    "x=5;y=6\n",
    "x>6 or y<10"
   ]
  },
  {
   "cell_type": "code",
   "execution_count": 29,
   "id": "5de2db23-9764-4b16-9da1-6229545f9a76",
   "metadata": {},
   "outputs": [
    {
     "data": {
      "text/plain": [
       "False"
      ]
     },
     "execution_count": 29,
     "metadata": {},
     "output_type": "execute_result"
    }
   ],
   "source": [
    "x=5\n",
    "not x>1"
   ]
  },
  {
   "cell_type": "code",
   "execution_count": 34,
   "id": "b242cf88-6386-4ded-afa4-3baf75e2f6f2",
   "metadata": {
    "jp-MarkdownHeadingCollapsed": true
   },
   "outputs": [
    {
     "data": {
      "text/plain": [
       "True"
      ]
     },
     "execution_count": 34,
     "metadata": {},
     "output_type": "execute_result"
    }
   ],
   "source": [
    " x=5;y=5\n",
    "x is y"
   ]
  },
  {
   "cell_type": "code",
   "execution_count": 33,
   "id": "05fb651a-433b-4b4c-adde-5c679ccfafb8",
   "metadata": {},
   "outputs": [
    {
     "data": {
      "text/plain": [
       "True"
      ]
     },
     "execution_count": 33,
     "metadata": {},
     "output_type": "execute_result"
    }
   ],
   "source": [
    "\n",
    "x=5;y=6\n",
    "operator.is_not(x,y)"
   ]
  },
  {
   "cell_type": "code",
   "execution_count": 40,
   "id": "545ae9c7-96c2-4c68-a52b-0b54f09100ce",
   "metadata": {},
   "outputs": [
    {
     "data": {
      "text/plain": [
       "True"
      ]
     },
     "execution_count": 40,
     "metadata": {},
     "output_type": "execute_result"
    }
   ],
   "source": [
    "nums=[1,2,3,4,5]\n",
    "operator.contains(nums,2)"
   ]
  },
  {
   "cell_type": "code",
   "execution_count": 42,
   "id": "a9551f95-c4d0-45e0-9301-d89118b69643",
   "metadata": {},
   "outputs": [
    {
     "data": {
      "text/plain": [
       "False"
      ]
     },
     "execution_count": 42,
     "metadata": {},
     "output_type": "execute_result"
    }
   ],
   "source": [
    "num=[1,2,3,4,5]\n",
    "not operator.contains(num,2)"
   ]
  },
  {
   "cell_type": "code",
   "execution_count": 43,
   "id": "7216f733-c8ae-4b81-8d42-a76cdebd75e9",
   "metadata": {},
   "outputs": [
    {
     "data": {
      "text/plain": [
       "0"
      ]
     },
     "execution_count": 43,
     "metadata": {},
     "output_type": "execute_result"
    }
   ],
   "source": [
    "x=5;y=10\n",
    "operator.and_(x,y)"
   ]
  },
  {
   "cell_type": "code",
   "execution_count": 44,
   "id": "930ef0d2-f9e7-4bfc-9f10-98f553067b0c",
   "metadata": {},
   "outputs": [
    {
     "data": {
      "text/plain": [
       "15"
      ]
     },
     "execution_count": 44,
     "metadata": {},
     "output_type": "execute_result"
    }
   ],
   "source": [
    "x=5;y=10\n",
    "operator.or_(x,y)"
   ]
  },
  {
   "cell_type": "code",
   "execution_count": 46,
   "id": "e70adb50-8559-4758-afc3-be64af6cdcf7",
   "metadata": {},
   "outputs": [
    {
     "data": {
      "text/plain": [
       "15"
      ]
     },
     "execution_count": 46,
     "metadata": {},
     "output_type": "execute_result"
    }
   ],
   "source": [
    "x=5;y=10\n",
    "operator.xor(x,y)"
   ]
  },
  {
   "cell_type": "code",
   "execution_count": 47,
   "id": "ff63fcbb-bfde-48cd-820e-711d35fe0fcd",
   "metadata": {},
   "outputs": [
    {
     "name": "stdout",
     "output_type": "stream",
     "text": [
      "['banana', 'apple', 'orange']\n"
     ]
    }
   ],
   "source": [
    "fruits=[\"banana\",\"apple\",\"orange\"]\n",
    "print(fruits)"
   ]
  },
  {
   "cell_type": "code",
   "execution_count": 49,
   "id": "3f0ee97e-2fd9-4f2b-ac7b-7a334cc1db2b",
   "metadata": {},
   "outputs": [
    {
     "name": "stdout",
     "output_type": "stream",
     "text": [
      "apple\n",
      "orange\n"
     ]
    }
   ],
   "source": [
    "fruits=[\"banana\",\"apple\",\"orange\"]\n",
    "print(fruits[1])\n",
    "print(fruits[-1])\n"
   ]
  },
  {
   "cell_type": "code",
   "execution_count": 53,
   "id": "82ad3daa-8be9-4b16-a959-ead9c8ee287e",
   "metadata": {},
   "outputs": [
    {
     "name": "stdout",
     "output_type": "stream",
     "text": [
      "['orange', 'mango', 'apple', 'kiwi']\n",
      "['orange', 'mango', 'apple', 'kiwi', 'pinapple']\n",
      "['apple', 'orange', 'mango', 'apple', 'kiwi']\n"
     ]
    }
   ],
   "source": [
    "fruits=['apple','orange','mango','apple','kiwi','pinapple']\n",
    "print(fruits[1:5])\n",
    "print(fruits[1:])\n",
    "print(fruits[:5])"
   ]
  },
  {
   "cell_type": "code",
   "execution_count": 55,
   "id": "9a8317b6-a69f-41d2-a57a-fa983e6bf1d2",
   "metadata": {},
   "outputs": [
    {
     "name": "stdout",
     "output_type": "stream",
     "text": [
      "['apple', 'banana', 'mango', 'apple', 'kiwi', 'pinapple']\n",
      "['apple', 'banana', 'watermelon', 'green apple', 'kiwi', 'pinapple']\n"
     ]
    }
   ],
   "source": [
    "fruit=['apple','orange','mango','apple','kiwi','pinapple']\n",
    "fruit[1]='banana'\n",
    "print(fruit)\n",
    "fruit[2:4]=\"watermelon\",\"green apple\"\n",
    "print(fruit)"
   ]
  },
  {
   "cell_type": "code",
   "execution_count": 59,
   "id": "dafbc484-389f-47a8-8526-41b505ddb5ed",
   "metadata": {},
   "outputs": [
    {
     "name": "stdout",
     "output_type": "stream",
     "text": [
      "['apple', 'watermelon', 'kiwi']\n"
     ]
    }
   ],
   "source": [
    "fruits=['apple','banana','orange']\n",
    "fruits[1:]='watermelon','kiwi'\n",
    "print(fruits)"
   ]
  },
  {
   "cell_type": "code",
   "execution_count": 64,
   "id": "14f2e746-1446-45f6-b3ca-4547cf430db7",
   "metadata": {},
   "outputs": [
    {
     "name": "stdout",
     "output_type": "stream",
     "text": [
      "['apple', 'kiwi', 'orange']\n"
     ]
    }
   ],
   "source": [
    "fruits=['apple','banana','orange']\n",
    "fruits[1:2]=['kiwi']\n",
    "print(fruits)"
   ]
  },
  {
   "cell_type": "code",
   "execution_count": 67,
   "id": "183d72aa-7586-434b-943a-f6b1e2b6b81e",
   "metadata": {},
   "outputs": [
    {
     "name": "stdout",
     "output_type": "stream",
     "text": [
      "['apple', 'orange', 'banana', 'cherry']\n"
     ]
    }
   ],
   "source": [
    "fruits=[\"apple\",\"banana\",\"cherry\"]\n",
    "fruits.insert(1,\"orange\")\n",
    "print(fruits)"
   ]
  },
  {
   "cell_type": "code",
   "execution_count": 71,
   "id": "0122d211-c156-433c-9696-67f6fcb6d45a",
   "metadata": {},
   "outputs": [
    {
     "name": "stdout",
     "output_type": "stream",
     "text": [
      "['apple', 'banana', 'cherry', 'orange']\n"
     ]
    }
   ],
   "source": [
    "fruits=[\"apple\",\"banana\",\"cherry\"]\n",
    "fruits.append(\"orange\")\n",
    "print(fruits)"
   ]
  },
  {
   "cell_type": "code",
   "execution_count": 77,
   "id": "b221fb4c-5bbe-47e6-a062-a466bc153122",
   "metadata": {},
   "outputs": [
    {
     "name": "stdout",
     "output_type": "stream",
     "text": [
      "['apple', 'banana', 'cherry', 'papaya', 'green apple']\n"
     ]
    }
   ],
   "source": [
    "fruits=[\"apple\",\"banana\",\"cherry\"]\n",
    "fruits2=(\"papaya\",\"green apple\")\n",
    "fruits.extend(fruits2)\n",
    "print(fruits)"
   ]
  },
  {
   "cell_type": "code",
   "execution_count": 82,
   "id": "a91ecded-e395-4f8d-9511-1ee904e4db44",
   "metadata": {},
   "outputs": [
    {
     "name": "stdout",
     "output_type": "stream",
     "text": [
      "['apple', 'cherry']\n"
     ]
    }
   ],
   "source": [
    "fruits=[\"apple\",\"banana\",\"cherry\"]\n",
    "fruits.pop(1)\n",
    "print(fruits)"
   ]
  },
  {
   "cell_type": "code",
   "execution_count": 88,
   "id": "44efa486-249a-4780-882f-4f4cca8e6e7c",
   "metadata": {},
   "outputs": [
    {
     "name": "stdout",
     "output_type": "stream",
     "text": [
      "['apple', 'cherry']\n"
     ]
    }
   ],
   "source": [
    "fruits=[\"apple\",\"banana\",\"cherry\"]\n",
    "del fruits[1]\n",
    "print(fruits)\n",
    "\n"
   ]
  },
  {
   "cell_type": "code",
   "execution_count": 93,
   "id": "d4e91471-1884-43b7-9264-7c0e0c2c0a7d",
   "metadata": {},
   "outputs": [
    {
     "name": "stdout",
     "output_type": "stream",
     "text": [
      "['apple', 'banana']\n"
     ]
    }
   ],
   "source": [
    "fruits=[\"apple\",\"banana\"]\n",
    "myfruits=fruits.copy()\n",
    "print(myfruits)\n"
   ]
  },
  {
   "cell_type": "code",
   "execution_count": null,
   "id": "56d3dbeb-8e7b-4812-8f1f-82a5442efcaf",
   "metadata": {},
   "outputs": [],
   "source": []
  }
 ],
 "metadata": {
  "kernelspec": {
   "display_name": "Python 3 (ipykernel)",
   "language": "python",
   "name": "python3"
  },
  "language_info": {
   "codemirror_mode": {
    "name": "ipython",
    "version": 3
   },
   "file_extension": ".py",
   "mimetype": "text/x-python",
   "name": "python",
   "nbconvert_exporter": "python",
   "pygments_lexer": "ipython3",
   "version": "3.13.0"
  }
 },
 "nbformat": 4,
 "nbformat_minor": 5
}
