{
 "cells": [
  {
   "cell_type": "code",
   "execution_count": 1,
   "id": "9628766e-b5d2-4f14-a738-e0c2cb9e9dc4",
   "metadata": {},
   "outputs": [
    {
     "name": "stdout",
     "output_type": "stream",
     "text": [
      "the words\n",
      "hello for python "
     ]
    }
   ],
   "source": [
    "print(\"the words\")\n",
    "l=(\"hello\",\"for\",\"python\")\n",
    "for i in l:\n",
    "    print(i,end=\" \")\n"
   ]
  },
  {
   "cell_type": "code",
   "execution_count": 13,
   "id": "2bc9fe72-8c97-4e3f-acd2-7ca72918f89d",
   "metadata": {},
   "outputs": [
    {
     "name": "stdout",
     "output_type": "stream",
     "text": [
      "\n",
      "dictionary\n",
      "xyz  123\n",
      "abc  456\n"
     ]
    }
   ],
   "source": [
    "print(\"\\ndictionary\")\n",
    "d=dict()\n",
    "d['xyz']=123\n",
    "d['abc']=456\n",
    "for i in d:\n",
    "    print(\"% s % d\"%(i,d[i]))"
   ]
  },
  {
   "cell_type": "code",
   "execution_count": 47,
   "id": "ef8e62e4-ec30-408a-908e-8cef9b93f7b6",
   "metadata": {},
   "outputs": [
    {
     "name": "stdout",
     "output_type": "stream",
     "text": [
      "current letter: p\n",
      "current letter: y\n",
      "current letter: t\n",
      "current letter: h\n",
      "current letter: n\n",
      "current letter:  \n",
      "current letter: d\n",
      "current letter: v\n",
      "current letter: l\n",
      "current letter: p\n",
      "current letter: r\n"
     ]
    }
   ],
   "source": [
    "for x in 'python developer':\n",
    "    if x=='e'or x=='o':\n",
    "        continue\n",
    "    print('current letter:',x)\n"
   ]
  },
  {
   "cell_type": "code",
   "execution_count": 4,
   "id": "834651f4-30f7-4eed-9ab1-01d61c5e3455",
   "metadata": {},
   "outputs": [
    {
     "name": "stdout",
     "output_type": "stream",
     "text": [
      "0 \n",
      "1 \n",
      "2 \n",
      "3 \n",
      "4 \n",
      "5 \n",
      "6 \n",
      "7 \n",
      "8 \n",
      "9 \n"
     ]
    }
   ],
   "source": [
    "for i in range(10):\n",
    "    print(i,end=\" \")\n",
    "    print()\n",
    "    "
   ]
  },
  {
   "cell_type": "code",
   "execution_count": 11,
   "id": "b9760533-2631-46f0-b4b2-dba54cd6f06a",
   "metadata": {},
   "outputs": [
    {
     "name": "stdout",
     "output_type": "stream",
     "text": [
      "10 20 30 40 "
     ]
    }
   ],
   "source": [
    "a=[10,20,30,40]\n",
    "for x in range(len(a)):\n",
    "    print(a[x],end=\" \")"
   ]
  },
  {
   "cell_type": "code",
   "execution_count": 16,
   "id": "e8c77dab-2744-4af9-bcd2-e52d1d2cbcf7",
   "metadata": {},
   "outputs": [
    {
     "name": "stdout",
     "output_type": "stream",
     "text": [
      "sum of first 10 natural numbers: 1\n",
      "sum of first 10 natural numbers: 3\n",
      "sum of first 10 natural numbers: 6\n",
      "sum of first 10 natural numbers: 10\n",
      "sum of first 10 natural numbers: 15\n",
      "sum of first 10 natural numbers: 21\n",
      "sum of first 10 natural numbers: 28\n",
      "sum of first 10 natural numbers: 36\n",
      "sum of first 10 natural numbers: 45\n",
      "sum of first 10 natural numbers: 55\n"
     ]
    }
   ],
   "source": [
    "sum=0\n",
    "for i in range (1,11):\n",
    "    sum=sum+i\n",
    "    print(\"sum of first 10 natural numbers:\",sum)\n"
   ]
  },
  {
   "cell_type": "code",
   "execution_count": 17,
   "id": "e81d8297-94cb-4e7a-a8a1-6a716b9e2f8f",
   "metadata": {},
   "outputs": [
    {
     "name": "stdout",
     "output_type": "stream",
     "text": [
      "1\n",
      "2\n",
      "3\n",
      "no break\n",
      "\n"
     ]
    }
   ],
   "source": [
    "for i in range(1,4):\n",
    "    print(i)\n",
    "else:\n",
    "    print(\"no break\\n\")"
   ]
  },
  {
   "cell_type": "code",
   "execution_count": 18,
   "id": "6cb82aab-17cf-4866-9855-1e9748eac319",
   "metadata": {},
   "outputs": [
    {
     "name": "stdout",
     "output_type": "stream",
     "text": [
      "1 a\n",
      "1 b\n",
      "1 c\n",
      "2 a\n",
      "2 b\n",
      "2 c\n",
      "3 a\n",
      "3 b\n",
      "3 c\n"
     ]
    }
   ],
   "source": [
    "a=[1,2,3]\n",
    "b=['a','b','c']\n",
    "for x in a:\n",
    "    for y in b:\n",
    "        print(x,y)"
   ]
  },
  {
   "cell_type": "code",
   "execution_count": 23,
   "id": "688461bd-2b4b-43fb-afe3-b01e25b7ee6d",
   "metadata": {},
   "outputs": [
    {
     "name": "stdin",
     "output_type": "stream",
     "text": [
      "Enter a name ammu\n"
     ]
    },
    {
     "name": "stdout",
     "output_type": "stream",
     "text": [
      "hello my function ammu\n"
     ]
    }
   ],
   "source": [
    "def hello(a):\n",
    "    print(\"hello my function\",a)\n",
    "a=input(\"Enter a name\")\n",
    "hello(a)"
   ]
  },
  {
   "cell_type": "code",
   "execution_count": 29,
   "id": "d84023c4-b0c6-4d4a-98ab-fc1c22353cb6",
   "metadata": {},
   "outputs": [
    {
     "name": "stdout",
     "output_type": "stream",
     "text": [
      "5\n",
      "10\n",
      "14\n",
      "15\n"
     ]
    }
   ],
   "source": [
    "def fun(*x):\n",
    "    for i in x:\n",
    "        print(i)\n",
    "fun(5,10,14,15)"
   ]
  },
  {
   "cell_type": "code",
   "execution_count": 30,
   "id": "b98fe558-0e2b-4419-a425-2304561665c1",
   "metadata": {},
   "outputs": [
    {
     "name": "stdout",
     "output_type": "stream",
     "text": [
      "welcome to ipcs\n"
     ]
    }
   ],
   "source": [
    "def hello():\n",
    "    print(\"welcome to ipcs\")\n",
    "hello()"
   ]
  },
  {
   "cell_type": "code",
   "execution_count": 31,
   "id": "79a2dc81-a694-4af5-9111-e5e28048261e",
   "metadata": {},
   "outputs": [
    {
     "name": "stdout",
     "output_type": "stream",
     "text": [
      "even\n",
      "odd\n"
     ]
    }
   ],
   "source": [
    "def evenorodd(x):\n",
    "    if(x%2==0):\n",
    "        print(\"even\")\n",
    "    else:\n",
    "        print(\"odd\")\n",
    "evenorodd(6)\n",
    "evenorodd(7)\n",
    "    "
   ]
  },
  {
   "cell_type": "code",
   "execution_count": 35,
   "id": "65e33627-0840-47cc-8c52-350ae1ea3e30",
   "metadata": {},
   "outputs": [
    {
     "name": "stdout",
     "output_type": "stream",
     "text": [
      "x: 20\n",
      "y: 10\n"
     ]
    }
   ],
   "source": [
    "def num(x,y):\n",
    "    print(\"x:\",x)\n",
    "    print('y:',y)\n",
    "num(y=10,x=20)"
   ]
  },
  {
   "cell_type": "code",
   "execution_count": 39,
   "id": "c7f6d5ef-e77a-4316-82cf-3afd07664c8b",
   "metadata": {},
   "outputs": [
    {
     "name": "stdout",
     "output_type": "stream",
     "text": [
      "the yougest child c\n"
     ]
    }
   ],
   "source": [
    "def name(*kids):\n",
    "    print(\"the yougest child \"+kids[2])\n",
    "name('a','b','c')"
   ]
  },
  {
   "cell_type": "code",
   "execution_count": 40,
   "id": "86eb43f2-a16f-4a7d-8d0c-3bef1dcfe96e",
   "metadata": {},
   "outputs": [
    {
     "name": "stdout",
     "output_type": "stream",
     "text": [
      "i am from india\n",
      "i am from tailand\n",
      "i am from tokyo\n",
      "i am from norway\n"
     ]
    }
   ],
   "source": [
    "def name(country=\"norway\"):\n",
    "    print(\"i am from \"+country)\n",
    "name('india')\n",
    "name('tailand')\n",
    "name('tokyo')\n",
    "name()"
   ]
  },
  {
   "cell_type": "code",
   "execution_count": 46,
   "id": "9cb08be2-1536-47bd-a510-8fa6fd07ce46",
   "metadata": {},
   "outputs": [
    {
     "name": "stdout",
     "output_type": "stream",
     "text": [
      "a\n",
      "b\n",
      "c\n"
     ]
    }
   ],
   "source": [
    "def name(xyz):\n",
    "    for x in xyz:\n",
    "        print(x)\n",
    "frutis=['a','b','c']\n",
    "name(frutis)"
   ]
  },
  {
   "cell_type": "code",
   "execution_count": 48,
   "id": "043d3eeb-8385-48eb-8516-2433e4b67e59",
   "metadata": {},
   "outputs": [
    {
     "name": "stdout",
     "output_type": "stream",
     "text": [
      "5\n"
     ]
    }
   ],
   "source": [
    "def sum(a,b):\n",
    "    return a+b\n",
    "s = sum(2,3)\n",
    "print(s)"
   ]
  },
  {
   "cell_type": "code",
   "execution_count": 49,
   "id": "7923c047-751f-421f-bf11-3c1c02179e8a",
   "metadata": {},
   "outputs": [
    {
     "ename": "_IncompleteInputError",
     "evalue": "incomplete input (346972121.py, line 3)",
     "output_type": "error",
     "traceback": [
      "\u001b[1;36m  Cell \u001b[1;32mIn[49], line 3\u001b[1;36m\u001b[0m\n\u001b[1;33m    print(square(2)\u001b[0m\n\u001b[1;37m                   ^\u001b[0m\n\u001b[1;31m_IncompleteInputError\u001b[0m\u001b[1;31m:\u001b[0m incomplete input\n"
     ]
    }
   ],
   "source": [
    "def square(num):\n",
    "    return num(*2)\n",
    "square()\n"
   ]
  },
  {
   "cell_type": "code",
   "execution_count": null,
   "id": "5cae3f5d-194b-4bbf-8824-962675570f0a",
   "metadata": {},
   "outputs": [],
   "source": []
  }
 ],
 "metadata": {
  "kernelspec": {
   "display_name": "Python 3 (ipykernel)",
   "language": "python",
   "name": "python3"
  },
  "language_info": {
   "codemirror_mode": {
    "name": "ipython",
    "version": 3
   },
   "file_extension": ".py",
   "mimetype": "text/x-python",
   "name": "python",
   "nbconvert_exporter": "python",
   "pygments_lexer": "ipython3",
   "version": "3.13.0"
  }
 },
 "nbformat": 4,
 "nbformat_minor": 5
}
