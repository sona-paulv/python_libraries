{
 "cells": [
  {
   "cell_type": "code",
   "execution_count": 2,
   "id": "d92201ef-6c1a-4f91-9afc-03cbe8c451c3",
   "metadata": {},
   "outputs": [
    {
     "name": "stdout",
     "output_type": "stream",
     "text": [
      "HELLO\n",
      "hello\n",
      "Hello world\n",
      "Hello World\n",
      "hello\n"
     ]
    }
   ],
   "source": [
    "text=\"hello\"\n",
    "print(text.upper())\n",
    "text=\"HELLO\"\n",
    "print(text.lower())\n",
    "text=\"hello world\"\n",
    "print(text.capitalize())\n",
    "text=\"hello world\"\n",
    "print(text.title())\n",
    "text=\" hello \"\n",
    "print(text.strip())"
   ]
  },
  {
   "cell_type": "code",
   "execution_count": 3,
   "id": "39108aa7-cef4-40d7-a737-8f5e97d2480d",
   "metadata": {},
   "outputs": [
    {
     "name": "stdout",
     "output_type": "stream",
     "text": [
      "  helloworld\n"
     ]
    }
   ],
   "source": [
    "text=\"  helloworld  \"\n",
    "print(text.rstrip())"
   ]
  },
  {
   "cell_type": "code",
   "execution_count": 4,
   "id": "84be77d4-5bc6-4fe8-90b1-8e147882dc2e",
   "metadata": {},
   "outputs": [
    {
     "name": "stdout",
     "output_type": "stream",
     "text": [
      "hello\n"
     ]
    }
   ],
   "source": [
    "text=\"hello \"\n",
    "print(text.rstrip())"
   ]
  },
  {
   "cell_type": "code",
   "execution_count": null,
   "id": "8e070d59-80b5-4b71-9cfe-99b420f6ff7f",
   "metadata": {},
   "outputs": [],
   "source": []
  },
  {
   "cell_type": "code",
   "execution_count": 5,
   "id": "0bef2481-2e98-4053-8d58-991d046bd9cd",
   "metadata": {},
   "outputs": [
    {
     "name": "stdout",
     "output_type": "stream",
     "text": [
      "hello\n"
     ]
    }
   ],
   "source": [
    "text=\" hello\"\n",
    "print(text.lstrip())"
   ]
  },
  {
   "cell_type": "code",
   "execution_count": 6,
   "id": "b85c7acb-8b2f-4899-89cf-9e40bd9ed517",
   "metadata": {},
   "outputs": [
    {
     "name": "stdout",
     "output_type": "stream",
     "text": [
      "hi world\n"
     ]
    }
   ],
   "source": [
    "text=\"hello world\"\n",
    "print(text.replace(\"hello\",\"hi\"))"
   ]
  },
  {
   "cell_type": "code",
   "execution_count": 7,
   "id": "66c15c4a-6259-4f0c-be46-bf584ddc622c",
   "metadata": {},
   "outputs": [
    {
     "name": "stdout",
     "output_type": "stream",
     "text": [
      "['hello', 'world']\n"
     ]
    }
   ],
   "source": [
    "word=\"hello world\"\n",
    "print(word.split())"
   ]
  },
  {
   "cell_type": "code",
   "execution_count": 8,
   "id": "f3b0367d-d125-41c4-b45b-b9b3110e835d",
   "metadata": {},
   "outputs": [
    {
     "name": "stdout",
     "output_type": "stream",
     "text": [
      "hello world\n"
     ]
    }
   ],
   "source": [
    "word=[\"hello\",\"world\"]\n",
    "print(\" \".join(word))"
   ]
  },
  {
   "cell_type": "code",
   "execution_count": null,
   "id": "6031986a-23a2-47d9-bb8e-a3891cf90c7a",
   "metadata": {},
   "outputs": [],
   "source": []
  },
  {
   "cell_type": "code",
   "execution_count": 9,
   "id": "1b5a649d-c00c-4239-8c5e-4977850d5637",
   "metadata": {},
   "outputs": [
    {
     "name": "stdout",
     "output_type": "stream",
     "text": [
      "6\n",
      "3\n"
     ]
    }
   ],
   "source": [
    "text=\"hello world\"\n",
    "print(text.find(\"world\"))\n",
    "text=\"hello world\"\n",
    "print(text.count(\"l\"))"
   ]
  },
  {
   "cell_type": "code",
   "execution_count": 10,
   "id": "5439b0cc-2967-4191-9b9f-d41aa401a92d",
   "metadata": {},
   "outputs": [
    {
     "name": "stdout",
     "output_type": "stream",
     "text": [
      "False\n"
     ]
    }
   ],
   "source": [
    "text=\"hello 123\"\n",
    "print(text.isalpha())"
   ]
  },
  {
   "cell_type": "code",
   "execution_count": 11,
   "id": "267ea485-b599-444e-bf7c-b091908895d0",
   "metadata": {},
   "outputs": [
    {
     "name": "stdout",
     "output_type": "stream",
     "text": [
      "True\n"
     ]
    }
   ],
   "source": [
    "text=\"1234\"\n",
    "print(text.isdigit())"
   ]
  },
  {
   "cell_type": "code",
   "execution_count": 12,
   "id": "fa07ff84-7586-4174-844b-fc909d0134ca",
   "metadata": {},
   "outputs": [
    {
     "name": "stdout",
     "output_type": "stream",
     "text": [
      "True\n"
     ]
    }
   ],
   "source": [
    "text=\" \"\n",
    "print(text.isspace())"
   ]
  },
  {
   "cell_type": "code",
   "execution_count": 13,
   "id": "9cfd4923-a3e9-4e92-a0ec-2e8eba846fed",
   "metadata": {},
   "outputs": [
    {
     "name": "stdout",
     "output_type": "stream",
     "text": [
      "True\n",
      "True\n"
     ]
    }
   ],
   "source": [
    "text=\"hello world\"\n",
    "print(text.startswith(\"hello\"))\n",
    "text=\"hello world\"\n",
    "print(text.endswith(\"world\"))"
   ]
  },
  {
   "cell_type": "code",
   "execution_count": null,
   "id": "bcabb5fa-1af4-4546-9494-ef7152d14cb5",
   "metadata": {},
   "outputs": [],
   "source": []
  },
  {
   "cell_type": "code",
   "execution_count": 14,
   "id": "94d24a11-c402-475e-9013-31ff04e1b3f8",
   "metadata": {},
   "outputs": [
    {
     "name": "stdout",
     "output_type": "stream",
     "text": [
      "my name is kaylin and iam 30 years old\n",
      "my name is kaylin and i am 30 years old\n",
      "my name is kaylin and iam 30 years old\n",
      "my name is kaylin and i am 30 years old\n",
      "my name is kaylin and iam 30 years old\n"
     ]
    }
   ],
   "source": [
    "name=\"kaylin\"\n",
    "age=30\n",
    "text=\"my name is %s and iam %d years old\" % (name,age)\n",
    "print(text)\n",
    "text=\"my name is {} and i am {} years old\"\n",
    "print(text.format(name,age))\n",
    "text=\"my name is {0} and iam {1} years old\"\n",
    "print(text.format(name,age))\n",
    "text=\"my name is {name} and i am {age} years old\"\n",
    "print(text.format(name=name,age=age))\n",
    "text=f\"my name is {name} and iam {age} years old\"\n",
    "print(text)"
   ]
  },
  {
   "cell_type": "code",
   "execution_count": 15,
   "id": "cdeb44fb-5246-4710-bf12-bbbd590af8cc",
   "metadata": {},
   "outputs": [
    {
     "name": "stdout",
     "output_type": "stream",
     "text": [
      "say \n",
      "hello\n"
     ]
    }
   ],
   "source": [
    "text=\"say \\nhello\"\n",
    "print(text)\n"
   ]
  },
  {
   "cell_type": "code",
   "execution_count": 16,
   "id": "77f43460-ee6f-49cc-bb91-e43c172d9f73",
   "metadata": {},
   "outputs": [
    {
     "name": "stdout",
     "output_type": "stream",
     "text": [
      "say \thello\n"
     ]
    }
   ],
   "source": [
    "text=\"say \\thello\"\n",
    "print(text)"
   ]
  },
  {
   "cell_type": "code",
   "execution_count": 17,
   "id": "2cabef01-ccdf-4f9b-b24c-3a4b8da9e0bd",
   "metadata": {},
   "outputs": [
    {
     "name": "stdout",
     "output_type": "stream",
     "text": [
      "say \\hello\n"
     ]
    }
   ],
   "source": [
    "text=\"say \\\\hello\"\n",
    "print(text)"
   ]
  },
  {
   "cell_type": "code",
   "execution_count": 18,
   "id": "3b166c03-1b71-4005-b9b4-209c372af290",
   "metadata": {},
   "outputs": [
    {
     "name": "stdout",
     "output_type": "stream",
     "text": [
      "it's a beautiful day\n"
     ]
    }
   ],
   "source": [
    "text=\"it's a beautiful day\"\n",
    "print(text)"
   ]
  },
  {
   "cell_type": "code",
   "execution_count": 19,
   "id": "a8c8e6ac-d431-4a5e-8096-4ca2afb7ea05",
   "metadata": {},
   "outputs": [
    {
     "name": "stdout",
     "output_type": "stream",
     "text": [
      "it's a \"beautiful\" day\n"
     ]
    }
   ],
   "source": [
    "text=\"it's a \\\"beautiful\\\" day\"\n",
    "print(text)"
   ]
  },
  {
   "cell_type": "code",
   "execution_count": 20,
   "id": "148432c0-392d-471e-996f-273b602e65dc",
   "metadata": {},
   "outputs": [
    {
     "name": "stdout",
     "output_type": "stream",
     "text": [
      "eood by\n"
     ]
    }
   ],
   "source": [
    "text='good by\\re'\n",
    "print(text)"
   ]
  },
  {
   "cell_type": "code",
   "execution_count": 21,
   "id": "a085c29c-6bb8-46ea-82f5-1c99f1521ae6",
   "metadata": {},
   "outputs": [
    {
     "name": "stdout",
     "output_type": "stream",
     "text": [
      "sahello\n"
     ]
    }
   ],
   "source": [
    "text='say\\bhello'\n",
    "print(text)"
   ]
  },
  {
   "cell_type": "code",
   "execution_count": 22,
   "id": "cfe19961-a020-4182-8b5d-af3412721c3d",
   "metadata": {},
   "outputs": [
    {
     "name": "stdout",
     "output_type": "stream",
     "text": [
      "say\f",
      "hello\n"
     ]
    }
   ],
   "source": [
    "text=\"say\\fhello\"\n",
    "print(text)"
   ]
  },
  {
   "cell_type": "code",
   "execution_count": 23,
   "id": "7ff4400a-6445-4a9a-ad96-613e25ce9813",
   "metadata": {},
   "outputs": [
    {
     "name": "stdout",
     "output_type": "stream",
     "text": [
      "say \u000b",
      "hello\n"
     ]
    }
   ],
   "source": [
    "text=\"say \\vhello\"\n",
    "print(text)"
   ]
  },
  {
   "cell_type": "code",
   "execution_count": 24,
   "id": "a7725044-e2f5-4906-8560-fbff5333ebcd",
   "metadata": {},
   "outputs": [
    {
     "name": "stdout",
     "output_type": "stream",
     "text": [
      "A\n"
     ]
    }
   ],
   "source": [
    "text=\"\\101\"\n",
    "print(text)"
   ]
  },
  {
   "cell_type": "code",
   "execution_count": 25,
   "id": "9e84f226-364e-49d1-a76f-0ae4e165f7ba",
   "metadata": {},
   "outputs": [
    {
     "name": "stdout",
     "output_type": "stream",
     "text": [
      "True\n"
     ]
    }
   ],
   "source": [
    "text=\"fff\"\n",
    "print(text.isalnum())"
   ]
  },
  {
   "cell_type": "code",
   "execution_count": 27,
   "id": "5a6af54e-ba69-477b-b9ea-7f12330328df",
   "metadata": {},
   "outputs": [
    {
     "name": "stdout",
     "output_type": "stream",
     "text": [
      "False\n"
     ]
    }
   ],
   "source": [
    "a=\"2.5\"\n",
    "print(a.isdecimal())"
   ]
  },
  {
   "cell_type": "code",
   "execution_count": 30,
   "id": "b317ca70-804a-4ea1-85ec-35019c189a95",
   "metadata": {},
   "outputs": [],
   "source": [
    "import operator"
   ]
  },
  {
   "cell_type": "code",
   "execution_count": 31,
   "id": "07b0e62f-3a91-4ea1-a033-db9db4f4b09e",
   "metadata": {},
   "outputs": [
    {
     "data": {
      "text/plain": [
       "['__abs__',\n",
       " '__add__',\n",
       " '__all__',\n",
       " '__and__',\n",
       " '__builtins__',\n",
       " '__cached__',\n",
       " '__call__',\n",
       " '__concat__',\n",
       " '__contains__',\n",
       " '__delitem__',\n",
       " '__doc__',\n",
       " '__eq__',\n",
       " '__file__',\n",
       " '__floordiv__',\n",
       " '__ge__',\n",
       " '__getitem__',\n",
       " '__gt__',\n",
       " '__iadd__',\n",
       " '__iand__',\n",
       " '__iconcat__',\n",
       " '__ifloordiv__',\n",
       " '__ilshift__',\n",
       " '__imatmul__',\n",
       " '__imod__',\n",
       " '__imul__',\n",
       " '__index__',\n",
       " '__inv__',\n",
       " '__invert__',\n",
       " '__ior__',\n",
       " '__ipow__',\n",
       " '__irshift__',\n",
       " '__isub__',\n",
       " '__itruediv__',\n",
       " '__ixor__',\n",
       " '__le__',\n",
       " '__loader__',\n",
       " '__lshift__',\n",
       " '__lt__',\n",
       " '__matmul__',\n",
       " '__mod__',\n",
       " '__mul__',\n",
       " '__name__',\n",
       " '__ne__',\n",
       " '__neg__',\n",
       " '__not__',\n",
       " '__or__',\n",
       " '__package__',\n",
       " '__pos__',\n",
       " '__pow__',\n",
       " '__rshift__',\n",
       " '__setitem__',\n",
       " '__spec__',\n",
       " '__sub__',\n",
       " '__truediv__',\n",
       " '__xor__',\n",
       " '_abs',\n",
       " 'abs',\n",
       " 'add',\n",
       " 'and_',\n",
       " 'attrgetter',\n",
       " 'call',\n",
       " 'concat',\n",
       " 'contains',\n",
       " 'countOf',\n",
       " 'delitem',\n",
       " 'eq',\n",
       " 'floordiv',\n",
       " 'ge',\n",
       " 'getitem',\n",
       " 'gt',\n",
       " 'iadd',\n",
       " 'iand',\n",
       " 'iconcat',\n",
       " 'ifloordiv',\n",
       " 'ilshift',\n",
       " 'imatmul',\n",
       " 'imod',\n",
       " 'imul',\n",
       " 'index',\n",
       " 'indexOf',\n",
       " 'inv',\n",
       " 'invert',\n",
       " 'ior',\n",
       " 'ipow',\n",
       " 'irshift',\n",
       " 'is_',\n",
       " 'is_not',\n",
       " 'isub',\n",
       " 'itemgetter',\n",
       " 'itruediv',\n",
       " 'ixor',\n",
       " 'le',\n",
       " 'length_hint',\n",
       " 'lshift',\n",
       " 'lt',\n",
       " 'matmul',\n",
       " 'methodcaller',\n",
       " 'mod',\n",
       " 'mul',\n",
       " 'ne',\n",
       " 'neg',\n",
       " 'not_',\n",
       " 'or_',\n",
       " 'pos',\n",
       " 'pow',\n",
       " 'rshift',\n",
       " 'setitem',\n",
       " 'sub',\n",
       " 'truediv',\n",
       " 'truth',\n",
       " 'xor']"
      ]
     },
     "execution_count": 31,
     "metadata": {},
     "output_type": "execute_result"
    }
   ],
   "source": [
    "dir(operator)"
   ]
  },
  {
   "cell_type": "code",
   "execution_count": null,
   "id": "b339ebbc-8992-41e7-b9c1-110667b11ac0",
   "metadata": {},
   "outputs": [],
   "source": []
  },
  {
   "cell_type": "code",
   "execution_count": null,
   "id": "51dd2c98-10b2-47da-8eed-18e4cb2fb18d",
   "metadata": {},
   "outputs": [],
   "source": []
  }
 ],
 "metadata": {
  "kernelspec": {
   "display_name": "Python 3 (ipykernel)",
   "language": "python",
   "name": "python3"
  },
  "language_info": {
   "codemirror_mode": {
    "name": "ipython",
    "version": 3
   },
   "file_extension": ".py",
   "mimetype": "text/x-python",
   "name": "python",
   "nbconvert_exporter": "python",
   "pygments_lexer": "ipython3",
   "version": "3.13.0"
  }
 },
 "nbformat": 4,
 "nbformat_minor": 5
}
