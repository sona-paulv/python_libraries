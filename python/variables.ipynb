{
 "cells": [
  {
   "cell_type": "code",
   "execution_count": 3,
   "id": "37a7bdae-c415-4439-8bee-eb26f96662a8",
   "metadata": {},
   "outputs": [
    {
     "name": "stdout",
     "output_type": "stream",
     "text": [
      "20670\n"
     ]
    }
   ],
   "source": [
    "payment_per_day=795\n",
    "days_of_work=26\n",
    "total_salary=payment_per_day*days_of_work\n",
    "print(total_salary)"
   ]
  },
  {
   "cell_type": "code",
   "execution_count": 5,
   "id": "b51f2979-6bcc-483a-b205-0a2ebb03747b",
   "metadata": {},
   "outputs": [
    {
     "name": "stdout",
     "output_type": "stream",
     "text": [
      "fruit market computer\n"
     ]
    }
   ],
   "source": [
    "x,y,z=\"fruit\",\"market\",\"computer\"\n",
    "print(x,y,z)"
   ]
  },
  {
   "cell_type": "code",
   "execution_count": 6,
   "id": "6ed8c92e-b85d-4ee0-9b08-ef6567f267b4",
   "metadata": {},
   "outputs": [
    {
     "ename": "ValueError",
     "evalue": "too many values to unpack (expected 3)",
     "output_type": "error",
     "traceback": [
      "\u001b[1;31m---------------------------------------------------------------------------\u001b[0m",
      "\u001b[1;31mValueError\u001b[0m                                Traceback (most recent call last)",
      "Cell \u001b[1;32mIn[6], line 1\u001b[0m\n\u001b[1;32m----> 1\u001b[0m x,y,z\u001b[38;5;241m=\u001b[39m\u001b[38;5;124m\"\u001b[39m\u001b[38;5;124morange\u001b[39m\u001b[38;5;124m\"\u001b[39m\n\u001b[0;32m      2\u001b[0m \u001b[38;5;28mprint\u001b[39m(x)\n\u001b[0;32m      3\u001b[0m \u001b[38;5;28mprint\u001b[39m(y)\n",
      "\u001b[1;31mValueError\u001b[0m: too many values to unpack (expected 3)"
     ]
    }
   ],
   "source": [
    "x,y,z=\"orange\"\n",
    "print(x)\n",
    "print(y)\n",
    "print(z)"
   ]
  },
  {
   "cell_type": "code",
   "execution_count": 8,
   "id": "61d053d7-9e5d-472f-b1fc-e1458e151e78",
   "metadata": {},
   "outputs": [
    {
     "name": "stdout",
     "output_type": "stream",
     "text": [
      "hello python\n",
      "hello python\n"
     ]
    }
   ],
   "source": [
    "print(\"hello python\")#this print hello python\n",
    "\"\"\"this is a comment \n",
    "written in a\n",
    "more than one line\"\"\"\n",
    "print(\"hello python\")"
   ]
  },
  {
   "cell_type": "code",
   "execution_count": 20,
   "id": "1e55fab5-1a8b-4827-a714-3cf257283bd4",
   "metadata": {},
   "outputs": [
    {
     "name": "stdout",
     "output_type": "stream",
     "text": [
      "t\n",
      "o\n",
      "i\n",
      "r\n",
      "good\n",
      "gramm\n",
      "conca\n",
      "auto\n",
      "siig\n",
      "ytho\n"
     ]
    }
   ],
   "source": [
    "text=\"python\"\n",
    "print(text[2])\n",
    "text=\"hello\"\n",
    "print(text[-1])\n",
    "text=\"learing\"\n",
    "print(text[4])\n",
    "text=\"reverse\"\n",
    "print(text[-3])\n",
    "mes=\"good morning\"\n",
    "print(mes[0:4])\n",
    "text=\"programming\"\n",
    "print(text[3:8])\n",
    "text=\"concatenate\"\n",
    "print(text[0:5])\n",
    "text=\"automation\"\n",
    "print(text[:4])\n",
    "text=\"slicing\"\n",
    "print(text[: :2])\n",
    "text=\"python\"\n",
    "print(text[1:-1])"
   ]
  },
  {
   "cell_type": "code",
   "execution_count": null,
   "id": "9f8dc548-9a04-4bc5-998b-480be9ec11f6",
   "metadata": {},
   "outputs": [],
   "source": []
  }
 ],
 "metadata": {
  "kernelspec": {
   "display_name": "Python 3 (ipykernel)",
   "language": "python",
   "name": "python3"
  },
  "language_info": {
   "codemirror_mode": {
    "name": "ipython",
    "version": 3
   },
   "file_extension": ".py",
   "mimetype": "text/x-python",
   "name": "python",
   "nbconvert_exporter": "python",
   "pygments_lexer": "ipython3",
   "version": "3.13.0"
  }
 },
 "nbformat": 4,
 "nbformat_minor": 5
}
