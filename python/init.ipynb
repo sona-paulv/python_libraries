{
 "cells": [
  {
   "cell_type": "code",
   "execution_count": 4,
   "id": "ad4bfa96-0467-4d80-9f85-276ca0d159da",
   "metadata": {},
   "outputs": [
    {
     "name": "stdout",
     "output_type": "stream",
     "text": [
      "bmw\n",
      "i am from bmw\n",
      "my model is series1\n"
     ]
    }
   ],
   "source": [
    "class cars:\n",
    "    x=\"bmw\"\n",
    "    x1=\"series1\"\n",
    "    def fun (self):\n",
    "        print(\"i am from\",self.x)\n",
    "        print(\"my model is\",self.x1)\n",
    "john=cars()\n",
    "print(john.x)\n",
    "john.fun()"
   ]
  },
  {
   "cell_type": "code",
   "execution_count": 7,
   "id": "bb995de2-f083-4294-b316-40323dbf424d",
   "metadata": {},
   "outputs": [
    {
     "name": "stdout",
     "output_type": "stream",
     "text": [
      "i am from bmw\n",
      "my model is series1\n",
      "bmw\n",
      "benz\n"
     ]
    }
   ],
   "source": [
    "class cars:\n",
    "    x=\"bmw\"\n",
    "    x1=\"series1\"\n",
    "    def __init__(self):\n",
    "        print(\"i am from\",self.x)\n",
    "        print(\"my model is\",self.x1)\n",
    "john=cars()\n",
    "print(john.x)\n",
    "john.x=\"benz\"\n",
    "print(john.x)"
   ]
  },
  {
   "cell_type": "code",
   "execution_count": 20,
   "id": "380c9d92-1bb0-4fa3-a7da-0e70f33874f7",
   "metadata": {},
   "outputs": [
    {
     "name": "stdout",
     "output_type": "stream",
     "text": [
      "hello nexon\n",
      "and color is brown\n",
      "hello nexon\n",
      "and color is red\n",
      "None\n",
      "hello ford\n",
      "and color is orange\n"
     ]
    }
   ],
   "source": [
    "class cars:\n",
    "    four_wheeler='cars'\n",
    "    def __init__(self,brand,color):\n",
    "        self.brand=brand\n",
    "        self.color=color\n",
    "    def fun(self):\n",
    "        print(\"hello\",self.brand)\n",
    "        print(\"and color is\",self.color)\n",
    "tata=cars(\"nexon\",\"brown\")\n",
    "mustang=cars(\"ford\",\"orange\")\n",
    "tata.fun()\n",
    "tata.color=\"red\"\n",
    "print(tata.fun())\n",
    "mustang.fun()\n",
    "\n",
    "     "
   ]
  },
  {
   "cell_type": "code",
   "execution_count": 17,
   "id": "4b561073-71a3-4b0b-812a-04a5abff10a4",
   "metadata": {},
   "outputs": [
    {
     "name": "stdout",
     "output_type": "stream",
     "text": [
      "hello\n"
     ]
    }
   ],
   "source": [
    "class myclass:\n",
    "    def __init__(self):\n",
    "        self.hello=\"hello\"\n",
    "    def print_hello(self):\n",
    "        print(self.hello)\n",
    "obj=myclass()\n",
    "obj.print_hello()"
   ]
  },
  {
   "cell_type": "code",
   "execution_count": 21,
   "id": "2051fdf1-14b9-48d1-9af0-dce9aad55057",
   "metadata": {},
   "outputs": [
    {
     "name": "stdout",
     "output_type": "stream",
     "text": [
      "destructor called\n",
      "first number = 2000\n",
      "second number = 2000\n",
      "addition of two numbers = 4000\n"
     ]
    }
   ],
   "source": [
    "\n"
   ]
  },
  {
   "cell_type": "code",
   "execution_count": 22,
   "id": "99258048-3b32-4f58-af10-64fe925faaaf",
   "metadata": {},
   "outputs": [
    {
     "name": "stdout",
     "output_type": "stream",
     "text": [
      "calling create_obj()function...\n",
      "making object...\n",
      "employee created\n",
      "function end...\n",
      "program end...\n"
     ]
    }
   ],
   "source": [
    "class employee:\n",
    "    def __init__(self):\n",
    "        print('employee created')\n",
    "    def __del__(self):\n",
    "        print('destructor called')\n",
    "def create_obj():\n",
    "    print('making object...')\n",
    "    obj=employee()\n",
    "    print('function end...')\n",
    "    return obj\n",
    "print('calling create_obj()function...')\n",
    "obj=create_obj()\n",
    "print('program end...')\n",
    "    "
   ]
  },
  {
   "cell_type": "code",
   "execution_count": null,
   "id": "93f8e0c2-dcaa-48b4-b59b-175e62d9af6d",
   "metadata": {},
   "outputs": [],
   "source": []
  }
 ],
 "metadata": {
  "kernelspec": {
   "display_name": "Python 3 (ipykernel)",
   "language": "python",
   "name": "python3"
  },
  "language_info": {
   "codemirror_mode": {
    "name": "ipython",
    "version": 3
   },
   "file_extension": ".py",
   "mimetype": "text/x-python",
   "name": "python",
   "nbconvert_exporter": "python",
   "pygments_lexer": "ipython3",
   "version": "3.13.0"
  }
 },
 "nbformat": 4,
 "nbformat_minor": 5
}
