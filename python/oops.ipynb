{
 "cells": [
  {
   "cell_type": "code",
   "execution_count": 5,
   "id": "c4eee628-47fc-4289-ad50-7a0ff1914490",
   "metadata": {},
   "outputs": [
    {
     "name": "stdout",
     "output_type": "stream",
     "text": [
      "10\n"
     ]
    }
   ],
   "source": [
    "import hiding"
   ]
  },
  {
   "cell_type": "code",
   "execution_count": 6,
   "id": "2307ae5f-c11b-40a6-a256-1eb428917187",
   "metadata": {},
   "outputs": [],
   "source": [
    "import hiding"
   ]
  },
  {
   "cell_type": "code",
   "execution_count": 1,
   "id": "78dcbe80-49e7-4791-9954-23e4b111a700",
   "metadata": {},
   "outputs": [
    {
     "name": "stdout",
     "output_type": "stream",
     "text": [
      "10\n"
     ]
    }
   ],
   "source": [
    "import hiding"
   ]
  },
  {
   "cell_type": "code",
   "execution_count": 2,
   "id": "1b774909-5f7a-4e8c-95a3-c2bb5fd38304",
   "metadata": {},
   "outputs": [
    {
     "name": "stdout",
     "output_type": "stream",
     "text": [
      "1\n"
     ]
    }
   ],
   "source": [
    "class counter:\n",
    "    def __init__(self):\n",
    "        self.__current=0\n",
    "    def increment(self):\n",
    "        self.__current+=1\n",
    "    def value(self):\n",
    "        return self.__current\n",
    "    def reset(self):\n",
    "        self.__current=0\n",
    "la=counter()\n",
    "la.increment()\n",
    "print(la._counter__current)"
   ]
  },
  {
   "cell_type": "code",
   "execution_count": 1,
   "id": "f1365f0e-4899-499c-b505-10419b8af4fe",
   "metadata": {},
   "outputs": [],
   "source": [
    "import prime"
   ]
  },
  {
   "cell_type": "code",
   "execution_count": 2,
   "id": "34e679c7-308a-44e8-bfff-794614186911",
   "metadata": {},
   "outputs": [
    {
     "name": "stdout",
     "output_type": "stream",
     "text": [
      "true\n",
      "false\n",
      "true\n"
     ]
    }
   ],
   "source": [
    "prime.isprimenot(3)"
   ]
  },
  {
   "cell_type": "code",
   "execution_count": 5,
   "id": "737a44de-639c-4279-b55c-02d0531dc232",
   "metadata": {},
   "outputs": [
    {
     "name": "stdout",
     "output_type": "stream",
     "text": [
      "sathya False\n",
      "kai True\n"
     ]
    }
   ],
   "source": [
    "class person(object):\n",
    "    def __init__(self,name):\n",
    "        self.name=name\n",
    "    def getname(self):\n",
    "        return self.name\n",
    "    def isemployee(self):\n",
    "        return False\n",
    "class employee(person):\n",
    "    def isemployee(self):\n",
    "        return True\n",
    "emp=person('sathya')\n",
    "print(emp.getname(),emp.isemployee())\n",
    "emp=employee('kai')\n",
    "print(emp.getname(),emp.isemployee())"
   ]
  },
  {
   "cell_type": "code",
   "execution_count": 21,
   "id": "ac0581f1-ca37-47bb-8bc4-8d8a5158b882",
   "metadata": {},
   "outputs": [
    {
     "ename": "IndentationError",
     "evalue": "unindent does not match any outer indentation level (<string>, line 14)",
     "output_type": "error",
     "traceback": [
      "\u001b[1;36m  File \u001b[1;32m<string>:14\u001b[1;36m\u001b[0m\n\u001b[1;33m    def display(self):\u001b[0m\n\u001b[1;37m                      ^\u001b[0m\n\u001b[1;31mIndentationError\u001b[0m\u001b[1;31m:\u001b[0m unindent does not match any outer indentation level\n"
     ]
    }
   ],
   "source": [
    "class person(object):\n",
    "    def __init__(self,name,idnumber):\n",
    "        self.name=name\n",
    "        self.idnumber=idnumber\n",
    "    def display(self):\n",
    "        print(self.name)\n",
    "        print(self.idnumber)\n",
    "class employee(person):\n",
    "    def __init__(self,name,idnumber,salary,post):\n",
    "        person.__init__(self,name,idnumber)\n",
    "        self.salary=salary\n",
    "        self.post=post\n",
    "        \n",
    "     def display(self):\n",
    "         print(self.name)\n",
    "         print(self.idnumber)\n",
    "         print(self.salary)\n",
    "         print(self.post)\n",
    "\n",
    "a=employee('kai','0023','2000','intern')\n",
    "a.display()\n"
   ]
  },
  {
   "cell_type": "code",
   "execution_count": 12,
   "id": "b2bfd34f-bca7-4408-a559-d946a92a9c9f",
   "metadata": {},
   "outputs": [
    {
     "name": "stdout",
     "output_type": "stream",
     "text": [
      "kai\n",
      "0023\n"
     ]
    }
   ],
   "source": [
    "class person(object):\n",
    "    def __init__(self, name, idnumber):\n",
    "        self.name = name\n",
    "        self.idnumber = idnumber\n",
    "        \n",
    "    def display(self):\n",
    "        print(self.name)\n",
    "        print(self.idnumber)\n",
    "\n",
    "class employee(person):\n",
    "    def __init__(self, name, idnumber, salary, post):\n",
    "        # Call the parent class constructor\n",
    "        person.__init__(self, name, idnumber)\n",
    "        self.salary = salary\n",
    "        self.post = post\n",
    "        \n",
    "    # def display(self):\n",
    "    #     # Call the parent class display method\n",
    "    #     super().display()\n",
    "    #     print(self.salary)\n",
    "    #     print(self.post)\n",
    "\n",
    "a = employee('kai', '0023', '2000', 'intern')\n",
    "a.display()\n"
   ]
  },
  {
   "cell_type": "code",
   "execution_count": null,
   "id": "5cadee4c-6b14-4168-b4ba-1f1063150a0d",
   "metadata": {},
   "outputs": [],
   "source": []
  }
 ],
 "metadata": {
  "kernelspec": {
   "display_name": "Python 3 (ipykernel)",
   "language": "python",
   "name": "python3"
  },
  "language_info": {
   "codemirror_mode": {
    "name": "ipython",
    "version": 3
   },
   "file_extension": ".py",
   "mimetype": "text/x-python",
   "name": "python",
   "nbconvert_exporter": "python",
   "pygments_lexer": "ipython3",
   "version": "3.13.0"
  }
 },
 "nbformat": 4,
 "nbformat_minor": 5
}
