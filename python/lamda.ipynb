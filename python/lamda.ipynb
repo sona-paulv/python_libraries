{
 "cells": [
  {
   "cell_type": "code",
   "execution_count": 10,
   "id": "75643125-aea8-48df-afc9-2ce125030acb",
   "metadata": {},
   "outputs": [
    {
     "data": {
      "text/plain": [
       "4"
      ]
     },
     "execution_count": 10,
     "metadata": {},
     "output_type": "execute_result"
    }
   ],
   "source": [
    "def square(num):\n",
    "    return(num**2)\n",
    "square(2)\n"
   ]
  },
  {
   "cell_type": "code",
   "execution_count": 12,
   "id": "e097490c-fe39-4407-8f2f-8f162e904560",
   "metadata": {},
   "outputs": [
    {
     "name": "stdout",
     "output_type": "stream",
     "text": [
      "[9, 11, 30, 14, 15]\n"
     ]
    }
   ],
   "source": [
    "def lala(x):\n",
    "    x[2]=30\n",
    "lst=[9,11,13,14,15]\n",
    "lala(lst)\n",
    "print(lst)"
   ]
  },
  {
   "cell_type": "code",
   "execution_count": 15,
   "id": "f7342f3b-7e8e-45d8-bd79-ba55682f5b6b",
   "metadata": {},
   "outputs": [
    {
     "name": "stdout",
     "output_type": "stream",
     "text": [
      "i love python\n"
     ]
    }
   ],
   "source": [
    "def a():\n",
    "    s='i love python'\n",
    "    def b():\n",
    "        print(s)\n",
    "    b()\n",
    "a()"
   ]
  },
  {
   "cell_type": "code",
   "execution_count": 21,
   "id": "0794cf6e-b9d9-47bd-9d42-afeaea876ec7",
   "metadata": {},
   "outputs": [
    {
     "name": "stdout",
     "output_type": "stream",
     "text": [
      "<function <lambda> at 0x0000021EAA6172E0>\n"
     ]
    },
    {
     "ename": "TypeError",
     "evalue": "'NoneType' object is not callable",
     "output_type": "error",
     "traceback": [
      "\u001b[1;31m---------------------------------------------------------------------------\u001b[0m",
      "\u001b[1;31mTypeError\u001b[0m                                 Traceback (most recent call last)",
      "Cell \u001b[1;32mIn[21], line 2\u001b[0m\n\u001b[0;32m      1\u001b[0m string\u001b[38;5;241m=\u001b[39m\u001b[38;5;124m'\u001b[39m\u001b[38;5;124mhello\u001b[39m\u001b[38;5;124m'\u001b[39m\n\u001b[1;32m----> 2\u001b[0m \u001b[38;5;28;43mprint\u001b[39;49m\u001b[43m(\u001b[49m\u001b[38;5;28;43;01mlambda\u001b[39;49;00m\u001b[43m \u001b[49m\u001b[43mstring\u001b[49m\u001b[43m:\u001b[49m\u001b[43m(\u001b[49m\u001b[43mstring\u001b[49m\u001b[43m)\u001b[49m\u001b[43m)\u001b[49m\u001b[43m(\u001b[49m\u001b[43mstring\u001b[49m\u001b[43m)\u001b[49m\n",
      "\u001b[1;31mTypeError\u001b[0m: 'NoneType' object is not callable"
     ]
    }
   ],
   "source": [
    "string='hello'\n",
    "print(lambda string:(string))\n"
   ]
  },
  {
   "cell_type": "code",
   "execution_count": 19,
   "id": "86b9a30b-aa00-43d6-abb0-628b3460047c",
   "metadata": {},
   "outputs": [
    {
     "name": "stdout",
     "output_type": "stream",
     "text": [
      "hello\n"
     ]
    }
   ],
   "source": [
    "x='hello'\n",
    "(lambda x:print(x))(x)"
   ]
  },
  {
   "cell_type": "code",
   "execution_count": 24,
   "id": "0336ef93-021c-41d6-81d4-a3c524a417de",
   "metadata": {},
   "outputs": [
    {
     "name": "stdout",
     "output_type": "stream",
     "text": [
      "343\n",
      "125\n"
     ]
    }
   ],
   "source": [
    "def cb(y):\n",
    "    return y*y*y;\n",
    "g=lambda x:x*x*x\n",
    "print(cb(7))\n",
    "print(g(5))"
   ]
  },
  {
   "cell_type": "code",
   "execution_count": 30,
   "id": "47ae7b20-fcb4-44f7-99df-4b1dea668f05",
   "metadata": {},
   "outputs": [
    {
     "name": "stdout",
     "output_type": "stream",
     "text": [
      "power\n",
      "power= 36\n"
     ]
    }
   ],
   "source": [
    "def power(n):\n",
    "    return lambda a:a**n\n",
    "base=power(2)\n",
    "print('power')\n",
    "print('power=',base(6))\n"
   ]
  },
  {
   "cell_type": "code",
   "execution_count": 38,
   "id": "14cdd492-700d-4a9c-af25-55bf1cdc82b9",
   "metadata": {},
   "outputs": [
    {
     "name": "stdout",
     "output_type": "stream",
     "text": [
      "[100, 2, 8, 60, 4, 10]\n"
     ]
    }
   ],
   "source": [
    "a=[100,2,8,60,5,4,3,31,10,11]\n",
    "y=filter(lambda a:a%2==0,a)\n",
    "print(list(y))"
   ]
  },
  {
   "cell_type": "code",
   "execution_count": null,
   "id": "6a8e9b15-ce96-4ca8-9c71-96237e2c187c",
   "metadata": {},
   "outputs": [],
   "source": []
  },
  {
   "cell_type": "code",
   "execution_count": 42,
   "id": "8d757035-1001-43d8-8fa1-90e91a968991",
   "metadata": {},
   "outputs": [
    {
     "name": "stdout",
     "output_type": "stream",
     "text": [
      "[True, True, True, True, False, True, False, False, True, False]\n"
     ]
    }
   ],
   "source": [
    "\n",
    "y=map(lambda a:a%2==0,a)\n",
    "print(list(y))"
   ]
  },
  {
   "cell_type": "code",
   "execution_count": 44,
   "id": "b77d0930-e090-4697-b615-4fdbec17a329",
   "metadata": {},
   "outputs": [
    {
     "name": "stdout",
     "output_type": "stream",
     "text": [
      "me too\n",
      " i love lala\n"
     ]
    }
   ],
   "source": [
    "def lala():\n",
    "    s=\"me too\" \n",
    "    print(s)\n",
    "s=\"i love lala\"\n",
    "lala()\n",
    "print(s)\n"
   ]
  },
  {
   "cell_type": "code",
   "execution_count": 46,
   "id": "906a555f-e3a0-4e1b-96e1-a2d600b68c3c",
   "metadata": {},
   "outputs": [
    {
     "name": "stdout",
     "output_type": "stream",
     "text": [
      "global: 1\n",
      "in f(): 1\n",
      "globlal: 1\n",
      "in g(): 2\n",
      "global: 1\n",
      "in h(): 3\n",
      "global 3\n"
     ]
    }
   ],
   "source": [
    "a=1\n",
    "def f():\n",
    "    print('in f():',a)\n",
    "def g():\n",
    "    a=2\n",
    "    print('in g():',a)\n",
    "def h():\n",
    "    global a\n",
    "    a=3\n",
    "    print('in h():',a)\n",
    "print('global:',a)\n",
    "f()\n",
    "print('globlal:',a)\n",
    "g()\n",
    "print('global:',a)\n",
    "h()\n",
    "print('global',a)\n",
    "\n",
    "\n",
    "    \n",
    "    "
   ]
  },
  {
   "cell_type": "code",
   "execution_count": 50,
   "id": "8c0ade4f-6cfe-422a-a047-f3b1df8479b9",
   "metadata": {},
   "outputs": [
    {
     "name": "stdout",
     "output_type": "stream",
     "text": [
      "HELLO\n",
      "HELLO\n"
     ]
    }
   ],
   "source": [
    "def shout(text):\n",
    "    return text.upper()\n",
    "print(shout('hello'))\n",
    "yell=shout\n",
    "print(yell('hello'))"
   ]
  },
  {
   "cell_type": "code",
   "execution_count": null,
   "id": "4228e64d-1839-4a25-b954-e16889f5fc77",
   "metadata": {},
   "outputs": [],
   "source": []
  }
 ],
 "metadata": {
  "kernelspec": {
   "display_name": "Python 3 (ipykernel)",
   "language": "python",
   "name": "python3"
  },
  "language_info": {
   "codemirror_mode": {
    "name": "ipython",
    "version": 3
   },
   "file_extension": ".py",
   "mimetype": "text/x-python",
   "name": "python",
   "nbconvert_exporter": "python",
   "pygments_lexer": "ipython3",
   "version": "3.13.0"
  }
 },
 "nbformat": 4,
 "nbformat_minor": 5
}
