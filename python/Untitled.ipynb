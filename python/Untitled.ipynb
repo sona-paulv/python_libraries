{
 "cells": [
  {
   "cell_type": "code",
   "execution_count": 33,
   "id": "fce39b48-94d8-4d65-a23e-2d63816e1d29",
   "metadata": {},
   "outputs": [
    {
     "name": "stdin",
     "output_type": "stream",
     "text": [
      "enter the 1st number: 3\n",
      "enter the 2st number: 5\n"
     ]
    },
    {
     "name": "stdout",
     "output_type": "stream",
     "text": [
      "3.0 is smaller than 5.0\n"
     ]
    }
   ],
   "source": [
    "a=float(input('enter the 1st number:'))\n",
    "b=float(input('enter the 2st number:'))\n",
    "if a<b:\n",
    "    print(a,'is smaller than',b)\n",
    "elif b<a:\n",
    "    print(b,'is greater than ',a)\n",
    "else:\n",
    "    print('both are equal')\n"
   ]
  },
  {
   "cell_type": "code",
   "execution_count": 46,
   "id": "d5759000-0ea7-443a-8a95-229b29b387e2",
   "metadata": {},
   "outputs": [
    {
     "name": "stdout",
     "output_type": "stream",
     "text": [
      "0\n",
      "1\n",
      "2\n",
      "3\n",
      "4\n",
      "5\n",
      "6\n",
      "7\n"
     ]
    }
   ],
   "source": [
    "\n",
    "   "
   ]
  },
  {
   "cell_type": "code",
   "execution_count": 44,
   "id": "00f8f0df-7f0f-477d-a1f0-bbbd1a9b3468",
   "metadata": {},
   "outputs": [
    {
     "name": "stdout",
     "output_type": "stream",
     "text": [
      "not divided by both\n"
     ]
    }
   ],
   "source": [
    "a=7\n",
    "if a%2==0:\n",
    "    print('divided by 2')\n",
    "elif a%3==0:\n",
    "    print('divided by 3')\n",
    "else:\n",
    "    print('not divided by both')"
   ]
  },
  {
   "cell_type": "code",
   "execution_count": null,
   "id": "16cdb5b1-cfb9-4d27-9bb8-36abb01f59ce",
   "metadata": {},
   "outputs": [],
   "source": [
    "\n"
   ]
  },
  {
   "cell_type": "code",
   "execution_count": null,
   "id": "62d869cc-f3a2-4180-94a1-35776d9aca35",
   "metadata": {},
   "outputs": [],
   "source": []
  },
  {
   "cell_type": "code",
   "execution_count": 5,
   "id": "08630705-de21-4d54-be24-da8b19a5baa7",
   "metadata": {},
   "outputs": [
    {
     "name": "stdin",
     "output_type": "stream",
     "text": [
      "1st person age: 23\n",
      "2nd person age: 35\n",
      "3rd person age: 18\n",
      "4th person age: 50\n"
     ]
    },
    {
     "name": "stdout",
     "output_type": "stream",
     "text": [
      "young\n"
     ]
    }
   ],
   "source": [
    "p1=int(input('1st person age:'))\n",
    "p2=int(input('2nd person age:'))\n",
    "p3=int(input('3rd person age:'))\n",
    "p4=int(input('4th person age:'))\n",
    "if min():\n",
    "    print('young',)\n",
    "else:\n",
    "    print('same age')"
   ]
  },
  {
   "cell_type": "code",
   "execution_count": 32,
   "id": "a6dd661f-6c7d-4cab-8aa4-1d51aec85862",
   "metadata": {},
   "outputs": [
    {
     "name": "stdin",
     "output_type": "stream",
     "text": [
      "Enter age of person 1:  23\n",
      "Enter age of person 2:  35\n",
      "Enter age of person 3:  18\n",
      "Enter age of person 4:  50\n"
     ]
    },
    {
     "name": "stdout",
     "output_type": "stream",
     "text": [
      "The youngest age is: 18\n"
     ]
    }
   ],
   "source": [
    "youngest_age = float('inf')  \n",
    "for i in range(1, 5):\n",
    "    age = int(input(f\"Enter age of person {i}: \"))\n",
    "    if age < youngest_age:\n",
    "        youngest_age = age\n",
    "print(f\"The youngest age is: {youngest_age}\")\n"
   ]
  },
  {
   "cell_type": "code",
   "execution_count": 29,
   "id": "1ab453d8-55d1-4998-8de2-af962361c919",
   "metadata": {},
   "outputs": [
    {
     "name": "stdin",
     "output_type": "stream",
     "text": [
      "enter the age of person 1:  23\n",
      "enter the age of person 2:  35\n",
      "enter the age of person 3:  50\n",
      "enter the age of person 4:  18\n"
     ]
    },
    {
     "name": "stdout",
     "output_type": "stream",
     "text": [
      "the oldest one is:50\n"
     ]
    }
   ],
   "source": [
    "oldest_age=float('1')\n",
    "for i in range(1,5):\n",
    "    age = int(input(f\"enter the age of person {i}: \"))\n",
    "    if age > oldest_age:\n",
    "        oldest_age=age\n",
    "print(f\"the oldest one is:{oldest_age}\")"
   ]
  },
  {
   "cell_type": "code",
   "execution_count": 42,
   "id": "76a6f331-254d-4ae0-a77f-8bc1169f0aaa",
   "metadata": {},
   "outputs": [
    {
     "name": "stdin",
     "output_type": "stream",
     "text": [
      "the letter is : d\n"
     ]
    },
    {
     "name": "stdout",
     "output_type": "stream",
     "text": [
      "false\n"
     ]
    }
   ],
   "source": [
    "vowles=str(input('the letter is :'))\n",
    "if vowles in 'aeiou':\n",
    "    print('true')\n",
    "else:\n",
    "    print('false')\n",
    "    \n",
    "\n",
    "   "
   ]
  },
  {
   "cell_type": "code",
   "execution_count": 55,
   "id": "bac62a4e-c4a3-4c70-b7a6-54fff7651af8",
   "metadata": {},
   "outputs": [
    {
     "name": "stdout",
     "output_type": "stream",
     "text": [
      "Sunday\n",
      "Monday\n",
      "Tuesday\n",
      "Wednesday\n",
      "Thursday\n",
      "Friday\n",
      "Saturday\n"
     ]
    }
   ],
   "source": [
    "days_of_week = ['Sunday', 'Monday', 'Tuesday', 'Wednesday', 'Thursday', 'Friday', 'Saturday']\n",
    "for day in days_of_week:\n",
    "    print(day)"
   ]
  },
  {
   "cell_type": "code",
   "execution_count": null,
   "id": "87b8c9dc-0226-4f01-9992-dbf3ff0e429f",
   "metadata": {},
   "outputs": [],
   "source": []
  },
  {
   "cell_type": "code",
   "execution_count": 59,
   "id": "95331664-b2eb-4046-af8f-6a2557ab2cc0",
   "metadata": {},
   "outputs": [
    {
     "name": "stdout",
     "output_type": "stream",
     "text": [
      "1 Sunday\n",
      "2 Monday\n",
      "3 Tuesday\n",
      "4 Wednesday\n",
      "5 Thursday\n",
      "6 Friday\n",
      "7 Saturday\n"
     ]
    }
   ],
   "source": [
    "days = ['Sunday', 'Monday', 'Tuesday', 'Wednesday', 'Thursday', 'Friday', 'Saturday']\n",
    "for i in range(len(days)):\n",
    "    print(f\"{i+1} {days[i]}\")"
   ]
  },
  {
   "cell_type": "code",
   "execution_count": 62,
   "id": "b847c105-cd71-4ba9-8e73-337a6b7f14e4",
   "metadata": {},
   "outputs": [
    {
     "data": {
      "text/plain": [
       "200"
      ]
     },
     "execution_count": 62,
     "metadata": {},
     "output_type": "execute_result"
    }
   ],
   "source": [
    "dic={'a':100,'b':200,'c':300}\n",
    "dic.get('b')\n"
   ]
  },
  {
   "cell_type": "code",
   "execution_count": 80,
   "id": "c3f6e56d-f982-4d67-ac26-8a47ce3da5dd",
   "metadata": {},
   "outputs": [
    {
     "name": "stdin",
     "output_type": "stream",
     "text": [
      "enter a number: 366\n"
     ]
    },
    {
     "name": "stdout",
     "output_type": "stream",
     "text": [
      "the last digit 6 is divisible by 3\n"
     ]
    }
   ],
   "source": [
    "number=int(input('enter a number:'))\n",
    "lastdigit= number% 10\n",
    "if lastdigit%3==0:\n",
    "      print(f\"the last digit {lastdigit} is divisible by 3\") \n",
    "else:\n",
    "      print(f\"the last digit {lastdigit} is divisible by 3\")\n",
    "\n",
    "      "
   ]
  },
  {
   "cell_type": "code",
   "execution_count": 85,
   "id": "710e88eb-9246-4684-b1c8-7ba4740d0479",
   "metadata": {},
   "outputs": [
    {
     "name": "stdout",
     "output_type": "stream",
     "text": [
      "{'a': 1, 'b': 2, 'd': 4}\n"
     ]
    }
   ],
   "source": [
    "x={'a':1,'b':2,'c':3,'d':4}\n",
    "del x['c']\n",
    "print(x)"
   ]
  },
  {
   "cell_type": "code",
   "execution_count": 87,
   "id": "d7dff74e-a673-4a27-a3ba-4fa62cbd6a67",
   "metadata": {},
   "outputs": [
    {
     "name": "stdout",
     "output_type": "stream",
     "text": [
      "[1, 2, 3, 4, 5]\n"
     ]
    }
   ],
   "source": [
    "x=[1,2,3,5]\n",
    "x.insert(3,4)\n",
    "print(x)"
   ]
  },
  {
   "cell_type": "code",
   "execution_count": 93,
   "id": "f11f6ecb-8089-4d17-b42d-be21ddc844b2",
   "metadata": {},
   "outputs": [
    {
     "name": "stdin",
     "output_type": "stream",
     "text": [
      "the age: 21\n"
     ]
    },
    {
     "name": "stdout",
     "output_type": "stream",
     "text": [
      "age must be 18 or below\n"
     ]
    }
   ],
   "source": [
    "age=int(input('the age:'))\n",
    "if age<=18:\n",
    "    if age>=18:\n",
    "        print('adult')\n",
    "    else:\n",
    "        if age>=13:\n",
    "            print('teenager')\n",
    "        else:\n",
    "            print('child')\n",
    "else:\n",
    "    print('age must be 18 or below')\n",
    "    \n"
   ]
  },
  {
   "cell_type": "code",
   "execution_count": 94,
   "id": "e70e4f18-b6c4-445c-82c8-b65c3dba5dfc",
   "metadata": {},
   "outputs": [
    {
     "name": "stdin",
     "output_type": "stream",
     "text": [
      "enter the unit consumed: 500\n"
     ]
    },
    {
     "name": "stdout",
     "output_type": "stream",
     "text": [
      "electricity bill for 500.0 unit is: rs4500.0\n"
     ]
    }
   ],
   "source": [
    "unit=float(input('enter the unit consumed:'))\n",
    "bill=0\n",
    "if unit<=100:\n",
    "    bill=0\n",
    "elif unit<=200:\n",
    "    bill(unit-100)*5\n",
    "else:\n",
    "    bill=(100*5)+(100*10)+((unit-200)*10)\n",
    "    print(f\"electricity bill for {unit} unit is: rs{bill}\")\n",
    "\n",
    "\n",
    "\n",
    "\n"
   ]
  },
  {
   "cell_type": "code",
   "execution_count": null,
   "id": "5b806ba7-9fdb-4654-ade8-0f11c533c48b",
   "metadata": {},
   "outputs": [],
   "source": []
  }
 ],
 "metadata": {
  "kernelspec": {
   "display_name": "Python 3 (ipykernel)",
   "language": "python",
   "name": "python3"
  },
  "language_info": {
   "codemirror_mode": {
    "name": "ipython",
    "version": 3
   },
   "file_extension": ".py",
   "mimetype": "text/x-python",
   "name": "python",
   "nbconvert_exporter": "python",
   "pygments_lexer": "ipython3",
   "version": "3.13.0"
  }
 },
 "nbformat": 4,
 "nbformat_minor": 5
}
