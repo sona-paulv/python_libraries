{
 "cells": [
  {
   "cell_type": "code",
   "execution_count": 1,
   "id": "5d9d22bb-1866-49d6-b048-05d6c5596152",
   "metadata": {},
   "outputs": [
    {
     "data": {
      "text/plain": [
       "8"
      ]
     },
     "execution_count": 1,
     "metadata": {},
     "output_type": "execute_result"
    }
   ],
   "source": [
    "x='rain in spain'\n",
    "x.find('s')"
   ]
  },
  {
   "cell_type": "code",
   "execution_count": 3,
   "id": "46a3279e-a664-4c95-afbd-63221a5c0d4e",
   "metadata": {},
   "outputs": [
    {
     "data": {
      "text/plain": [
       "8"
      ]
     },
     "execution_count": 3,
     "metadata": {},
     "output_type": "execute_result"
    }
   ],
   "source": [
    "x='rain in spain'\n",
    "x.index('spain')"
   ]
  },
  {
   "cell_type": "code",
   "execution_count": 37,
   "id": "40ed27ef-3a4d-4f39-ad0b-bf68282f2612",
   "metadata": {},
   "outputs": [
    {
     "name": "stdout",
     "output_type": "stream",
     "text": [
      "[23, 25]\n"
     ]
    }
   ],
   "source": [
    "a=[20,'kerala',[100,200,300],'a','b','c',[15,23,25]]\n",
    "print(a[6][1:])"
   ]
  },
  {
   "cell_type": "code",
   "execution_count": null,
   "id": "73b90a3e-0794-43e6-84e2-099fd0990bd3",
   "metadata": {},
   "outputs": [],
   "source": []
  },
  {
   "cell_type": "code",
   "execution_count": null,
   "id": "71486cc1-be3e-4ac3-a9bf-9657c38f9bd3",
   "metadata": {},
   "outputs": [],
   "source": []
  }
 ],
 "metadata": {
  "kernelspec": {
   "display_name": "Python 3 (ipykernel)",
   "language": "python",
   "name": "python3"
  },
  "language_info": {
   "codemirror_mode": {
    "name": "ipython",
    "version": 3
   },
   "file_extension": ".py",
   "mimetype": "text/x-python",
   "name": "python",
   "nbconvert_exporter": "python",
   "pygments_lexer": "ipython3",
   "version": "3.13.0"
  }
 },
 "nbformat": 4,
 "nbformat_minor": 5
}
