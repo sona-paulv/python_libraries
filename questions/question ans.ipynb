{
 "cells": [
  {
   "cell_type": "code",
   "execution_count": 2,
   "id": "dd1275a2-53b2-4ad3-b1ab-6afd9c414b73",
   "metadata": {},
   "outputs": [
    {
     "name": "stdout",
     "output_type": "stream",
     "text": [
      "filet mignon\n"
     ]
    }
   ],
   "source": [
    "string1=\" filet mignon\"\n",
    "print(string1.lstrip())"
   ]
  },
  {
   "cell_type": "code",
   "execution_count": 3,
   "id": "0a47c9c7-181a-4f48-927b-c2f930c29da2",
   "metadata": {},
   "outputs": [
    {
     "name": "stdout",
     "output_type": "stream",
     "text": [
      "brisket\n"
     ]
    }
   ],
   "source": [
    "string2=\"brisket \"\n",
    "print(string2.rstrip())\n"
   ]
  },
  {
   "cell_type": "code",
   "execution_count": 5,
   "id": "93fb2ccf-a17a-49fe-93b8-829633aa9832",
   "metadata": {},
   "outputs": [
    {
     "name": "stdout",
     "output_type": "stream",
     "text": [
      "cheese burger\n"
     ]
    }
   ],
   "source": [
    "string3=\" cheese burger \"\n",
    "print(string3.strip())"
   ]
  },
  {
   "cell_type": "code",
   "execution_count": 7,
   "id": "05aa79ae-4ede-447a-a12e-00427f3b6fcc",
   "metadata": {},
   "outputs": [
    {
     "name": "stdout",
     "output_type": "stream",
     "text": [
      "HELLO PYTHON\n"
     ]
    }
   ],
   "source": [
    "x=\"hello python\"\n",
    "print(x.upper())"
   ]
  },
  {
   "cell_type": "code",
   "execution_count": 8,
   "id": "2c97d2a3-efac-4240-abae-fffda2f74510",
   "metadata": {},
   "outputs": [
    {
     "name": "stdout",
     "output_type": "stream",
     "text": [
      "11\n"
     ]
    }
   ],
   "source": [
    "x='i dont know'\n",
    "print(len(x))"
   ]
  },
  {
   "cell_type": "code",
   "execution_count": 20,
   "id": "85c66550-0baa-4932-b9d3-cd498e738651",
   "metadata": {},
   "outputs": [
    {
     "name": "stdout",
     "output_type": "stream",
     "text": [
      "the product of 2 and 4 is  8\n"
     ]
    }
   ],
   "source": [
    "x=2\n",
    "y=4\n",
    "z=x*y\n",
    "print('the product of 2 and 4 is ',z)\n"
   ]
  },
  {
   "cell_type": "code",
   "execution_count": 31,
   "id": "21905c7b-195a-4b3e-b438-02af36c98d68",
   "metadata": {},
   "outputs": [
    {
     "name": "stdout",
     "output_type": "stream",
     "text": [
      "0.2kg is the weight of the newt\n"
     ]
    }
   ],
   "source": [
    "weight=0.2\n",
    "animal='newt'\n",
    "both=\"{}kg is the weight of the {}\"\n",
    "print(both.format(weight,animal))"
   ]
  },
  {
   "cell_type": "code",
   "execution_count": 32,
   "id": "53618317-f47f-436c-99f4-75500e89ca9d",
   "metadata": {},
   "outputs": [
    {
     "name": "stdout",
     "output_type": "stream",
     "text": [
      "0.2kg is the weight of the newt\n"
     ]
    }
   ],
   "source": [
    "weight=0.2\n",
    "animal='newt'\n",
    "both=f\"{weight}kg is the weight of the {animal}\"\n",
    "print(both)"
   ]
  },
  {
   "cell_type": "code",
   "execution_count": 54,
   "id": "705af830-8fc9-401d-b85b-f5bc42d3cd97",
   "metadata": {},
   "outputs": [
    {
     "name": "stdout",
     "output_type": "stream",
     "text": [
      "['one', 'two', 'three', 'six', 'seven']\n"
     ]
    }
   ],
   "source": [
    "x=['one','two','six','seven']\n",
    "x.insert(2,\"three\")\n",
    "print(x)"
   ]
  },
  {
   "cell_type": "code",
   "execution_count": 58,
   "id": "836bbaeb-aac7-4546-84ae-62de8a531bb2",
   "metadata": {},
   "outputs": [
    {
     "name": "stdout",
     "output_type": "stream",
     "text": [
      "abc\n",
      "defghij\n",
      "code abcdefghij\n"
     ]
    }
   ],
   "source": [
    "word='abcdefghij'\n",
    "x=(word[:3])\n",
    "print(x)\n",
    "y=(word[3:])\n",
    "print(y)\n",
    "z=x+y\n",
    "print('code',z)"
   ]
  },
  {
   "cell_type": "code",
   "execution_count": 64,
   "id": "5fa57f78-31ac-461c-a890-f9b8c0efcb48",
   "metadata": {},
   "outputs": [
    {
     "name": "stdout",
     "output_type": "stream",
     "text": [
      "[1, 2, 3, 4]\n"
     ]
    }
   ],
   "source": [
    "x=[1,2,1,3,4,2]\n",
    "y=set(x)\n",
    "x=list(y)\n",
    "print(x)"
   ]
  },
  {
   "cell_type": "code",
   "execution_count": 68,
   "id": "b6487f23-1c6c-418e-b98d-8e6d172ba226",
   "metadata": {},
   "outputs": [
    {
     "name": "stdout",
     "output_type": "stream",
     "text": [
      "{'c', 'd', 'b', 'e', 'a'}\n"
     ]
    }
   ],
   "source": [
    "x={'a','b','c'}\n",
    "x.update('d','e')\n",
    "print(x)"
   ]
  },
  {
   "cell_type": "code",
   "execution_count": 70,
   "id": "cf6f46d4-a58e-4b54-aadf-3df2109e8445",
   "metadata": {},
   "outputs": [
    {
     "name": "stdout",
     "output_type": "stream",
     "text": [
      "{'b', 'a'}\n"
     ]
    }
   ],
   "source": [
    "x={'a','b','c'}\n",
    "x.remove('c')\n",
    "print(x)"
   ]
  },
  {
   "cell_type": "code",
   "execution_count": 73,
   "id": "58d95d36-8522-4ce0-af69-0b5dfc4d4c4c",
   "metadata": {},
   "outputs": [
    {
     "name": "stdout",
     "output_type": "stream",
     "text": [
      "{'blue'}\n"
     ]
    }
   ],
   "source": [
    "x=set(['green','blue'])\n",
    "y=set(['blue','yellow'])\n",
    "x.intersection_update(y)\n",
    "print(x)"
   ]
  },
  {
   "cell_type": "code",
   "execution_count": 76,
   "id": "2e5ff7f7-156b-4b2e-b969-eb4e1cbb442b",
   "metadata": {},
   "outputs": [
    {
     "name": "stdout",
     "output_type": "stream",
     "text": [
      "set()\n"
     ]
    }
   ],
   "source": [
    "x={'a','b','c'}\n",
    "x.clear()\n",
    "print(x)"
   ]
  },
  {
   "cell_type": "code",
   "execution_count": 85,
   "id": "35fee2a3-c38b-4541-936d-45e5065ee801",
   "metadata": {},
   "outputs": [
    {
     "name": "stdout",
     "output_type": "stream",
     "text": [
      "{0: 10, 1: 20}\n",
      "{0: 10, 1: 20, 2: 30}\n"
     ]
    }
   ],
   "source": [
    "d={\n",
    "    0:10,\n",
    "    1:20\n",
    "}\n",
    "print(d)\n",
    "d[2]=30\n",
    "print(d)\n"
   ]
  },
  {
   "cell_type": "code",
   "execution_count": 88,
   "id": "21bc7575-d8e8-4066-b3f6-b181a51d1257",
   "metadata": {},
   "outputs": [
    {
     "name": "stdout",
     "output_type": "stream",
     "text": [
      "{'dic1': {1: 10, 2: 20}, 'dic2': {3: 30, 4: 40}, 'dic3': {5: 50, 6: 60}}\n"
     ]
    }
   ],
   "source": [
    "dictionary={\n",
    "    'dic1':{\n",
    "        1:10,\n",
    "        2:20\n",
    "    },\n",
    "    'dic2':{\n",
    "        3:30,\n",
    "        4:40\n",
    "    },\n",
    "    'dic3':{\n",
    "        5:50,\n",
    "        6:60\n",
    "    }\n",
    "}\n",
    "print(dictionary)   \n",
    "\n",
    "\n",
    "\n",
    "    \n",
    "    \n",
    "    \n",
    "    \n",
    "    \n",
    "    \n",
    "        "
   ]
  },
  {
   "cell_type": "code",
   "execution_count": 94,
   "id": "dc7a50ac-51f5-4468-9e6d-feb5af9101d1",
   "metadata": {},
   "outputs": [
    {
     "data": {
      "text/plain": [
       "dict_keys([0, 1, 2])"
      ]
     },
     "execution_count": 94,
     "metadata": {},
     "output_type": "execute_result"
    }
   ],
   "source": [
    "d.keys()\n"
   ]
  },
  {
   "cell_type": "code",
   "execution_count": 112,
   "id": "9a5a6213-c9d2-4e42-9ba3-2ab0e78bd690",
   "metadata": {},
   "outputs": [
    {
     "name": "stdout",
     "output_type": "stream",
     "text": [
      "{'dic1': {1: 10, 2: 20}, 'dic2': {3: 30, 4: 40}, 'dic3': {5: 50, 6: 60}}\n"
     ]
    },
    {
     "data": {
      "text/plain": [
       "dict_keys(['dic1', 'dic2', 'dic3'])"
      ]
     },
     "execution_count": 112,
     "metadata": {},
     "output_type": "execute_result"
    }
   ],
   "source": [
    "dictionary={\n",
    "    'dic1':{\n",
    "        1:10,\n",
    "        2:20\n",
    "    },\n",
    "    'dic2':{\n",
    "        3:30,\n",
    "        4:40\n",
    "    },\n",
    "    'dic3':{\n",
    "        5:50,\n",
    "        6:60\n",
    "    }\n",
    "}\n",
    "print(dictionary)   \n",
    "dictionary.keys()"
   ]
  },
  {
   "cell_type": "code",
   "execution_count": 108,
   "id": "46c06a63-480b-4ff2-9940-efe97843192c",
   "metadata": {},
   "outputs": [
    {
     "name": "stdout",
     "output_type": "stream",
     "text": [
      "{'dic1': {1: 10, 2: 20}, 'dic2': {3: 30, 4: 40}, 'dic3': {5: 50, 6: 60}}\n",
      "{'dic2': {3: 30, 4: 40}, 'dic3': {5: 50, 6: 60}}\n"
     ]
    }
   ],
   "source": [
    "dictionary={\n",
    "    'dic1':{\n",
    "        1:10,\n",
    "        2:20\n",
    "    },\n",
    "    'dic2':{\n",
    "        3:30,\n",
    "        4:40\n",
    "    },\n",
    "    'dic3':{\n",
    "        5:50,\n",
    "        6:60\n",
    "    }\n",
    "}\n",
    "print(dictionary)  \n",
    "del dictionary['dic1']\n",
    "print(dictionary)"
   ]
  },
  {
   "cell_type": "code",
   "execution_count": 114,
   "id": "9d8e3517-1a11-49f5-b55d-a6e103cc0188",
   "metadata": {},
   "outputs": [
    {
     "name": "stdout",
     "output_type": "stream",
     "text": [
      "{'d1': {'a': 100, 'b': 200, 'c': 300}, 'd2': {'a': 300, 'b': 200, 'd': 400}}\n"
     ]
    }
   ],
   "source": [
    "d1={\n",
    "    'a':100,\n",
    "    'b':200,\n",
    "    'c':300\n",
    "}\n",
    "d2={\n",
    "    'a':300,\n",
    "    'b':200,\n",
    "    'd':400\n",
    "}\n",
    "d={\n",
    "    \"d1\":d1,\n",
    "    \"d2\":d2\n",
    "}\n",
    "\n",
    "print(d)\n",
    "\n"
   ]
  },
  {
   "cell_type": "code",
   "execution_count": 27,
   "id": "dabf5a85-c3f2-4612-ab6a-005d5e090935",
   "metadata": {},
   "outputs": [
    {
     "name": "stdout",
     "output_type": "stream",
     "text": [
      "{'a': 400, 'b': 400}\n"
     ]
    }
   ],
   "source": [
    "d1={'a':100,'b':200,'c':300}\n",
    "d2={'a':300,'b':200,'d':400}\n",
    "d3={}\n",
    "for i in d1:\n",
    "    for j in d2:\n",
    "        if i == j:\n",
    "            d3[i]=d1[i]+d2[j]\n",
    "        else:\n",
    "            pass\n",
    "\n",
    "print(d3)"
   ]
  },
  {
   "cell_type": "code",
   "execution_count": 18,
   "id": "983c6f87-532d-4946-a6c2-c88b2117b0e0",
   "metadata": {},
   "outputs": [
    {
     "name": "stdout",
     "output_type": "stream",
     "text": [
      "[100, 200, 300, 400, 500, 600]\n"
     ]
    }
   ],
   "source": [
    "d1={'a':100,'b':200,'c':300}\n",
    "d2={'a':400,'b':500,'d':600}\n",
    "l1=list(d1.values())\n",
    "l2=list(d2.values())\n",
    "l1.extend(l2)\n",
    "print(l1)"
   ]
  },
  {
   "cell_type": "code",
   "execution_count": 125,
   "id": "c9483bab-f4df-44f0-bb67-32a1dfb4de6f",
   "metadata": {},
   "outputs": [
    {
     "data": {
      "text/plain": [
       "9"
      ]
     },
     "execution_count": 125,
     "metadata": {},
     "output_type": "execute_result"
    }
   ],
   "source": [
    "d={'a':5,'b':14,'c':32,'d':35,'e':24,'f':100,'g':57,'h':8,'i':100}\n",
    "len(d)"
   ]
  },
  {
   "cell_type": "code",
   "execution_count": 127,
   "id": "237fab54-22d5-48a2-9087-083f175c03f6",
   "metadata": {},
   "outputs": [
    {
     "name": "stdout",
     "output_type": "stream",
     "text": [
      "e\n"
     ]
    }
   ],
   "source": [
    "a=(1,'a',2,'b',3,'c',4,'d',5,'e',6,'f',7)\n",
    "print(a[-4])"
   ]
  },
  {
   "cell_type": "code",
   "execution_count": 3,
   "id": "cde09b78-bc39-406a-baaf-ec7ef8c27080",
   "metadata": {},
   "outputs": [
    {
     "name": "stdout",
     "output_type": "stream",
     "text": [
      "['p', 'y', 't', 'h', 'n']\n"
     ]
    }
   ],
   "source": [
    "tup=('p','y','t','h','o','n')\n",
    "stri=list(tup)\n",
    "stri.remove('o')\n",
    "print(stri)"
   ]
  },
  {
   "cell_type": "code",
   "execution_count": 10,
   "id": "ee7f80f3-19d5-40cc-84c2-356c9be8bcad",
   "metadata": {},
   "outputs": [
    {
     "name": "stdout",
     "output_type": "stream",
     "text": [
      "('p', 'y', 't', 'h', 'o', 'n')\n",
      "['p', 'y', 't', 'h', 'o', 'n']\n"
     ]
    },
    {
     "data": {
      "text/plain": [
       "list"
      ]
     },
     "execution_count": 10,
     "metadata": {},
     "output_type": "execute_result"
    }
   ],
   "source": [
    "tup=('p','y','t','h','o','n')\n",
    "type(tup)\n",
    "print(tup)\n",
    "xx=list(tup)\n",
    "print(xx)\n",
    "type(xx)\n"
   ]
  },
  {
   "cell_type": "code",
   "execution_count": 42,
   "id": "42c4bc24-6260-427f-8bd9-b14050a22abe",
   "metadata": {},
   "outputs": [
    {
     "name": "stdout",
     "output_type": "stream",
     "text": [
      "[1, 2, 3, 4, 5]\n"
     ]
    }
   ],
   "source": [
    "a=[1,2,3,4,5,6,7,8,9,10]\n",
    "del(a[5:10])\n",
    "print(a)\n",
    "\n"
   ]
  },
  {
   "cell_type": "code",
   "execution_count": 26,
   "id": "fe19c779-7960-436f-b872-bfc2b6b4c633",
   "metadata": {},
   "outputs": [
    {
     "data": {
      "text/plain": [
       "'Sona paul'"
      ]
     },
     "execution_count": 26,
     "metadata": {},
     "output_type": "execute_result"
    }
   ],
   "source": [
    "x='sona paul'\n",
    "x.capitalize()\n"
   ]
  },
  {
   "cell_type": "code",
   "execution_count": 27,
   "id": "286770ff-da1f-4449-b53d-5332fea4fbcd",
   "metadata": {},
   "outputs": [
    {
     "data": {
      "text/plain": [
       "'Sona Paul'"
      ]
     },
     "execution_count": 27,
     "metadata": {},
     "output_type": "execute_result"
    }
   ],
   "source": [
    "x.title()"
   ]
  },
  {
   "cell_type": "code",
   "execution_count": 28,
   "id": "81303be0-1b39-478b-bb4c-dbc0b0f8b0cc",
   "metadata": {},
   "outputs": [
    {
     "data": {
      "text/plain": [
       "'SONA PAUL'"
      ]
     },
     "execution_count": 28,
     "metadata": {},
     "output_type": "execute_result"
    }
   ],
   "source": [
    "x.upper()"
   ]
  },
  {
   "cell_type": "code",
   "execution_count": 34,
   "id": "4c7aa409-d3be-49de-ba9c-f6d1257ca073",
   "metadata": {},
   "outputs": [
    {
     "data": {
      "text/plain": [
       "False"
      ]
     },
     "execution_count": 34,
     "metadata": {},
     "output_type": "execute_result"
    }
   ],
   "source": [
    "x='sona paul'\n",
    "('in' in x)"
   ]
  },
  {
   "cell_type": "code",
   "execution_count": 39,
   "id": "a299e0e7-8ee9-45a0-87b3-77fb27aac246",
   "metadata": {},
   "outputs": [
    {
     "name": "stdout",
     "output_type": "stream",
     "text": [
      "[1, 2, 20]\n"
     ]
    }
   ],
   "source": [
    "a=[1,2,'p','y','k',10,20]\n",
    "del(a[2:6])\n",
    "print(a)"
   ]
  },
  {
   "cell_type": "code",
   "execution_count": 45,
   "id": "4d4626a3-2c48-4d34-a9aa-70f5de627155",
   "metadata": {},
   "outputs": [
    {
     "data": {
      "text/plain": [
       "4"
      ]
     },
     "execution_count": 45,
     "metadata": {},
     "output_type": "execute_result"
    }
   ],
   "source": [
    "a=[1,2,'p','y','k',10,20]\n",
    "a.index('k')"
   ]
  },
  {
   "cell_type": "code",
   "execution_count": 60,
   "id": "b17a1104-4d83-432c-8e21-5d4362f16387",
   "metadata": {},
   "outputs": [
    {
     "name": "stdout",
     "output_type": "stream",
     "text": [
      "10 is occurred 2  times in list a\n"
     ]
    }
   ],
   "source": [
    "a=[2,2,10,10,3,4,5,1]\n",
    "\n",
    "print('10 is occurred',a.count(10), ' times in list a')"
   ]
  },
  {
   "cell_type": "code",
   "execution_count": 65,
   "id": "3e460b42-a459-4abd-aea7-d0f8713ae80d",
   "metadata": {},
   "outputs": [
    {
     "name": "stdout",
     "output_type": "stream",
     "text": [
      "['apple', 'banana', 'cherry']\n"
     ]
    }
   ],
   "source": [
    "a=['apple']\n",
    "b=['banana']\n",
    "c=['cherry']\n",
    "a.extend(b)\n",
    "d=a\n",
    "d.extend(c)\n",
    "print(d)"
   ]
  },
  {
   "cell_type": "code",
   "execution_count": 66,
   "id": "b1cb18fc-a1db-4bf4-8bb5-12c5a17b5018",
   "metadata": {},
   "outputs": [
    {
     "name": "stdout",
     "output_type": "stream",
     "text": [
      "the reminder is 2 when 50 divided 4\n"
     ]
    }
   ],
   "source": [
    "a=50\n",
    "b=4\n",
    "c=a%b\n",
    "d=(f'the reminder is {c} when {a} divided {b}')\n",
    "print(d)"
   ]
  },
  {
   "cell_type": "code",
   "execution_count": 73,
   "id": "67b93010-e984-4799-b39c-b1a747ad1f36",
   "metadata": {},
   "outputs": [
    {
     "name": "stdout",
     "output_type": "stream",
     "text": [
      "[(1, 2), (2, 1), (2, 2), (2, 3), (3, 2), (4, 4), (5, 4)]\n"
     ]
    }
   ],
   "source": [
    "inpu=[(2,1),(1,2),(4,4),(3,2),(2,3),(5,4),(2,2)]\n",
    "inpu.sort()\n",
    "print(inpu)"
   ]
  },
  {
   "cell_type": "code",
   "execution_count": 81,
   "id": "f1730bcf-4ffd-474a-bdd5-10ab20a54d3a",
   "metadata": {},
   "outputs": [],
   "source": [
    "a=[100,50,2,5,7,25,78]\n"
   ]
  },
  {
   "cell_type": "code",
   "execution_count": null,
   "id": "5d4f5dea-8e71-4e3b-8825-fbffd3909df2",
   "metadata": {},
   "outputs": [],
   "source": [
    "x='rain in spain'\n"
   ]
  }
 ],
 "metadata": {
  "kernelspec": {
   "display_name": "Python 3 (ipykernel)",
   "language": "python",
   "name": "python3"
  },
  "language_info": {
   "codemirror_mode": {
    "name": "ipython",
    "version": 3
   },
   "file_extension": ".py",
   "mimetype": "text/x-python",
   "name": "python",
   "nbconvert_exporter": "python",
   "pygments_lexer": "ipython3",
   "version": "3.13.0"
  }
 },
 "nbformat": 4,
 "nbformat_minor": 5
}
