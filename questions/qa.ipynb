{
 "cells": [
  {
   "cell_type": "code",
   "execution_count": 21,
   "id": "f2a5e3f1-41ff-4cf8-8d2d-150fb66dce81",
   "metadata": {},
   "outputs": [
    {
     "name": "stdout",
     "output_type": "stream",
     "text": [
      "hetic day!\n"
     ]
    }
   ],
   "source": [
    "file=open(\"file1.txt\",'r')\n",
    "print(file.read())"
   ]
  },
  {
   "cell_type": "code",
   "execution_count": 55,
   "id": "8a7c69e7-4942-4cf7-bb40-b3de4fee6ab1",
   "metadata": {},
   "outputs": [],
   "source": [
    "file=open('intro.txt','w')\n",
    "l=['\\nis hard to cross road\\n','if you cross the road look both side\\n']\n",
    "file.writelines(l)\n",
    "file.close()"
   ]
  },
  {
   "cell_type": "code",
   "execution_count": null,
   "id": "dfb7dec5-f842-45c6-b6e5-c4983b1b9b4d",
   "metadata": {},
   "outputs": [],
   "source": []
  },
  {
   "cell_type": "code",
   "execution_count": 56,
   "id": "77762d9e-4621-4ede-9664-22b90ad7d256",
   "metadata": {},
   "outputs": [
    {
     "name": "stdout",
     "output_type": "stream",
     "text": [
      "hetic day! \n",
      "is hard to cross road\n",
      "if you cross the road look both side\n",
      "\n"
     ]
    }
   ],
   "source": [
    "with open('file1.txt','r')as file1,open('intro.txt','r')as file2,open('merge.txt','w')as merge_file:\n",
    "    file1_content = file1.read()\n",
    "    file2_content = file2.read()\n",
    "    merge_file.write(file1_content)\n",
    "    merge_file.write(\"\\n\") \n",
    "    merge_file.write(file2_content)\n",
    "print(file1_content,file2_content)"
   ]
  },
  {
   "cell_type": "code",
   "execution_count": 71,
   "id": "8195c87f-81c6-451a-b7c9-7a65c36c4f99",
   "metadata": {},
   "outputs": [
    {
     "name": "stdout",
     "output_type": "stream",
     "text": [
      "even\n"
     ]
    }
   ],
   "source": [
    "a=6\n",
    "if a%2==0:\n",
    "    print('even')\n",
    "else:\n",
    "    print('odd')\n",
    "\n",
    "\n",
    "\n"
   ]
  },
  {
   "cell_type": "code",
   "execution_count": 103,
   "id": "3ea2f063-633d-4ddd-af0a-d1be75ad02fb",
   "metadata": {},
   "outputs": [
    {
     "name": "stdout",
     "output_type": "stream",
     "text": [
      "negative\n"
     ]
    }
   ],
   "source": [
    "a= -2\n",
    "if a>0:\n",
    "    print('positive')\n",
    "elif a<0:\n",
    "    print('negative')\n",
    "else:\n",
    "    print('zero')\n",
    "\n",
    "\n"
   ]
  },
  {
   "cell_type": "code",
   "execution_count": 76,
   "id": "8650ea62-122b-46e6-a6b5-f7ac90052923",
   "metadata": {},
   "outputs": [
    {
     "name": "stdout",
     "output_type": "stream",
     "text": [
      "not eligible for vote\n"
     ]
    }
   ],
   "source": [
    "per=16\n",
    "if per>=18:\n",
    "    print('eligible for vote')\n",
    "else:\n",
    "    print('not eligible for vote')"
   ]
  },
  {
   "cell_type": "code",
   "execution_count": 78,
   "id": "6364ffc2-6fde-420b-9b14-37e2280f6b8a",
   "metadata": {},
   "outputs": [
    {
     "name": "stdout",
     "output_type": "stream",
     "text": [
      "not multiplyed by 7\n"
     ]
    }
   ],
   "source": [
    "mul=47\n",
    "if mul%7==0:\n",
    "    print('multiplyed by 7')\n",
    "else:\n",
    "    print('not multiplyed by 7')\n",
    "    "
   ]
  },
  {
   "cell_type": "code",
   "execution_count": 81,
   "id": "d5650de6-b473-40a4-a7a0-870423264015",
   "metadata": {},
   "outputs": [
    {
     "name": "stdout",
     "output_type": "stream",
     "text": [
      "hello\n"
     ]
    }
   ],
   "source": [
    "a=25\n",
    "if a%5==0:\n",
    "    print('hello')\n",
    "else:\n",
    "    print('bye')\n",
    "    "
   ]
  },
  {
   "cell_type": "code",
   "execution_count": 101,
   "id": "04fe547b-9231-43c3-9bab-52b554037e96",
   "metadata": {},
   "outputs": [
    {
     "name": "stdout",
     "output_type": "stream",
     "text": [
      "three digit\n"
     ]
    }
   ],
   "source": [
    "a=100\n",
    "if 100<=a<=999:\n",
    "    print('three digit')\n",
    "else:\n",
    "    print('not three digit')\n"
   ]
  },
  {
   "cell_type": "code",
   "execution_count": null,
   "id": "32b49a08-9090-4c70-a643-ff6e1fe42794",
   "metadata": {},
   "outputs": [],
   "source": [
    "day=['sunday','monday','tuesday','thursday','friday','saturday']\n",
    "while True:\n",
    "    day_number = int(input(\"Enter a number between 1 and 7: \"))\n",
    "    if 1 <= day_number <= 7:\n",
    "        print(days[day_number - 1])  \n",
    "        break\n",
    "    else:\n",
    "        print(\"Invalid day number! Please enter a number between 1 and 7.\")"
   ]
  },
  {
   "cell_type": "code",
   "execution_count": null,
   "id": "c48de32b-fbdc-436c-a493-ecaa0831ef2f",
   "metadata": {},
   "outputs": [],
   "source": [
    "\n",
    "\n"
   ]
  },
  {
   "cell_type": "code",
   "execution_count": null,
   "id": "bd54d37c-2022-46ea-b6ae-74a1fc6c3fcb",
   "metadata": {},
   "outputs": [],
   "source": []
  }
 ],
 "metadata": {
  "kernelspec": {
   "display_name": "Python 3 (ipykernel)",
   "language": "python",
   "name": "python3"
  },
  "language_info": {
   "codemirror_mode": {
    "name": "ipython",
    "version": 3
   },
   "file_extension": ".py",
   "mimetype": "text/x-python",
   "name": "python",
   "nbconvert_exporter": "python",
   "pygments_lexer": "ipython3",
   "version": "3.13.0"
  }
 },
 "nbformat": 4,
 "nbformat_minor": 5
}
