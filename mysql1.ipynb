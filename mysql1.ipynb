{
 "cells": [
  {
   "cell_type": "code",
   "execution_count": 17,
   "id": "719613a1-b6b3-4434-b714-54acb75fff28",
   "metadata": {},
   "outputs": [],
   "source": [
    "#pip install mysql-connector-python"
   ]
  },
  {
   "cell_type": "code",
   "execution_count": 2,
   "id": "6427d71a-eb12-4bc9-946d-d3af262eed4a",
   "metadata": {},
   "outputs": [],
   "source": [
    "import mysql.connector"
   ]
  },
  {
   "cell_type": "code",
   "execution_count": 9,
   "id": "8bde856d-998b-4280-a377-2853630a4b6c",
   "metadata": {},
   "outputs": [
    {
     "name": "stdout",
     "output_type": "stream",
     "text": [
      "('dep',)\n"
     ]
    }
   ],
   "source": [
    "con=mysql.connector.connect(\n",
    "    host=\"localhost\",\n",
    "    user=\"root\",\n",
    "    password=\"root\",\n",
    "    database=\"college\"\n",
    ")\n",
    "mycursor = con.cursor()\n",
    "mycursor.execute(\"SHOW TABLES\")\n",
    "for x in mycursor:\n",
    "    print(x)\n"
   ]
  },
  {
   "cell_type": "code",
   "execution_count": 21,
   "id": "027668d1-df8d-480b-bb42-512ecc4dae0f",
   "metadata": {},
   "outputs": [
    {
     "name": "stdout",
     "output_type": "stream",
     "text": [
      "Requirement already satisfied: mysql-connector-python in c:\\program files\\python313\\lib\\site-packages (9.2.0)\n",
      "Note: you may need to restart the kernel to use updated packages.\n"
     ]
    },
    {
     "name": "stderr",
     "output_type": "stream",
     "text": [
      "\n",
      "[notice] A new release of pip is available: 24.2 -> 25.0.1\n",
      "[notice] To update, run: python.exe -m pip install --upgrade pip\n"
     ]
    }
   ],
   "source": [
    "pip install mysql-connector-python\n"
   ]
  },
  {
   "cell_type": "code",
   "execution_count": 22,
   "id": "f5795077-1f7e-4924-9312-3b35f03ed7df",
   "metadata": {},
   "outputs": [],
   "source": [
    "import mysql.connector"
   ]
  },
  {
   "cell_type": "code",
   "execution_count": 24,
   "id": "7c948480-6750-43e3-b81b-5eb5a9bb63fb",
   "metadata": {},
   "outputs": [
    {
     "name": "stdout",
     "output_type": "stream",
     "text": [
      "('college',)\n",
      "('company',)\n",
      "('employee_payroll_system',)\n",
      "('information_schema',)\n",
      "('library',)\n",
      "('mysql',)\n",
      "('northwind',)\n",
      "('performance_schema',)\n",
      "('prodution',)\n",
      "('questions',)\n",
      "('sakila',)\n",
      "('sys',)\n",
      "('vimala',)\n",
      "('world',)\n"
     ]
    }
   ],
   "source": [
    "mydb=mysql.connector.connect(\n",
    "    host=\"localhost\",\n",
    "    user=\"root\",\n",
    "    password=\"root\"\n",
    ")\n",
    "mycursor=mydb.cursor()\n",
    "mycursor.execute(\"SHOW DATABASES\")\n",
    "for x in mycursor:\n",
    "    print(x)"
   ]
  },
  {
   "cell_type": "code",
   "execution_count": 33,
   "id": "b505e9f8-85be-40f8-974a-cc25044bfd5f",
   "metadata": {},
   "outputs": [],
   "source": [
    "mydb=mysql.connector.connect(\n",
    "    host=\"localhost\",\n",
    "    user=\"root\",\n",
    "    password=\"root\"\n",
    ")\n",
    "mycursor=mydb.cursor()\n",
    "mycursor.execute(\"CREATE DATABASE hello\")\n"
   ]
  },
  {
   "cell_type": "code",
   "execution_count": 36,
   "id": "f97abf31-4c9d-4004-a552-3ef738f3a439",
   "metadata": {},
   "outputs": [
    {
     "name": "stdout",
     "output_type": "stream",
     "text": [
      "('customers',)\n",
      "('orders',)\n"
     ]
    }
   ],
   "source": [
    "rar=mysql.connector.connect(\n",
    "    host=\"localhost\",\n",
    "    user=\"root\",\n",
    "    password=\"root\",\n",
    "    database=\"prodution\"\n",
    ")\n",
    "lal=rar.cursor()\n",
    "lal.execute(\"SHOW TABLES\")\n",
    "for x in lal:\n",
    "    print(x)\n",
    "\n"
   ]
  },
  {
   "cell_type": "code",
   "execution_count": 38,
   "id": "a7e91375-13bb-4a89-9652-0d5b4cf89184",
   "metadata": {},
   "outputs": [],
   "source": [
    "rar=mysql.connector.connect(\n",
    "    host=\"localhost\",\n",
    "    user=\"root\",\n",
    "    password=\"root\",\n",
    "    database=\"prodution\"\n",
    ")\n",
    "lal=rar.cursor()\n",
    "lal.execute(\"CREATE TABLE CUSTOMER(NAME VARCHAR(255),ADDRESS VARCHAR(255))\")"
   ]
  },
  {
   "cell_type": "code",
   "execution_count": 11,
   "id": "f214af78-0ad6-4b54-969c-a66321eb036b",
   "metadata": {},
   "outputs": [],
   "source": [
    "rar=mysql.connector.connect(\n",
    "    host=\"localhost\",\n",
    "    user=\"root\",\n",
    "    password=\"root\",\n",
    "    database=\"prodution\"\n",
    ")\n",
    "lal=rar.cursor()\n",
    "pap=\"DROP TABLE IF EXISTS CUSTOMER\"\n",
    "lal.execute(pap)"
   ]
  },
  {
   "cell_type": "code",
   "execution_count": 10,
   "id": "04cbd4cd-99b5-458c-8c26-7128c1a97d76",
   "metadata": {},
   "outputs": [],
   "source": [
    "import mysql.connector\n"
   ]
  },
  {
   "cell_type": "code",
   "execution_count": 17,
   "id": "47d52c07-05ed-4712-8699-8753ff47d84a",
   "metadata": {},
   "outputs": [
    {
     "name": "stdout",
     "output_type": "stream",
     "text": [
      "1 record inserted\n"
     ]
    }
   ],
   "source": [
    "kai=mysql.connector.connect(\n",
    "    host='localhost',\n",
    "    user='root',\n",
    "    password='root',\n",
    "    database=\"industry\"\n",
    ")\n",
    "kal=kai.cursor()\n",
    "sql=\"insert into customers(custid,custname)values(%s,%s)\"\n",
    "val=(1,'john')\n",
    "kal.execute(sql,val)\n",
    "kai.commit()\n",
    "print(kal.rowcount,'record inserted')"
   ]
  },
  {
   "cell_type": "code",
   "execution_count": 21,
   "id": "79843eee-d551-4016-9556-d8293e068cd2",
   "metadata": {},
   "outputs": [
    {
     "name": "stdout",
     "output_type": "stream",
     "text": [
      "6 was inserted\n"
     ]
    }
   ],
   "source": [
    "kai=mysql.connector.connect(\n",
    "    host='localhost',\n",
    "    user='root',\n",
    "    password='root',\n",
    "    database=\"industry\"\n",
    ")\n",
    "kal=kai.cursor()\n",
    "sql=\"insert into customers(custid,custname)values(%s,%s)\"\n",
    "val =[ \n",
    "  (2,'Peter'),\n",
    "  (3,'Amy'),\n",
    "  (4,'Hannah'),\n",
    "  (5,'Michael'),\n",
    "  (6,'Sandy'),\n",
    "  (7,'Betty')\n",
    "]\n",
    "kal.executemany(sql,val)\n",
    "kai.commit()\n",
    "print(kal.rowcount,'was inserted')"
   ]
  },
  {
   "cell_type": "code",
   "execution_count": 24,
   "id": "8f665d72-561f-4ab9-aefd-6f88fa68eb88",
   "metadata": {},
   "outputs": [
    {
     "name": "stdout",
     "output_type": "stream",
     "text": [
      "2 record(s) affected\n"
     ]
    }
   ],
   "source": [
    "kai=mysql.connector.connect(\n",
    "    host='localhost',\n",
    "    user='root',\n",
    "    password='root',\n",
    "    database=\"industry\"\n",
    ")\n",
    "kal=kai.cursor()\n",
    "sql=\"update customers SET custname=%s WHERE custname=%s\"\n",
    "val=('daniyel','betty')\n",
    "kal.execute(sql,val)\n",
    "kai.commit()\n",
    "print(kal.rowcount,'record(s) affected')"
   ]
  },
  {
   "cell_type": "code",
   "execution_count": 26,
   "id": "1bea31ca-b666-4459-8262-1f23ca719c3a",
   "metadata": {},
   "outputs": [
    {
     "name": "stdout",
     "output_type": "stream",
     "text": [
      "2 record(s) affected\n"
     ]
    }
   ],
   "source": [
    "kai=mysql.connector.connect(\n",
    "    host='localhost',\n",
    "    user='root',\n",
    "    password='root',\n",
    "    database=\"industry\"\n",
    ")\n",
    "kal=kai.cursor()\n",
    "sql=\"update customers SET custname='daniyal' WHERE custname='sandy'\"\n",
    "kal.execute(sql)\n",
    "kai.commit()\n",
    "print(kal.rowcount,'record(s) affected')"
   ]
  },
  {
   "cell_type": "code",
   "execution_count": null,
   "id": "0c7e4246-62bf-4155-9977-35d3985bd4a7",
   "metadata": {},
   "outputs": [],
   "source": []
  }
 ],
 "metadata": {
  "kernelspec": {
   "display_name": "Python 3 (ipykernel)",
   "language": "python",
   "name": "python3"
  },
  "language_info": {
   "codemirror_mode": {
    "name": "ipython",
    "version": 3
   },
   "file_extension": ".py",
   "mimetype": "text/x-python",
   "name": "python",
   "nbconvert_exporter": "python",
   "pygments_lexer": "ipython3",
   "version": "3.13.0"
  }
 },
 "nbformat": 4,
 "nbformat_minor": 5
}
